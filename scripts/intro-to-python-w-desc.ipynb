{
  "cells": [
    {
      "cell_type": "markdown",
      "metadata": {},
      "source": [
        "# Introduction to Python for Agribusiness Students\n",
        "\n",
        "This notebook uses examples and concepts following *An introduction to statistical learning: With applications in Python* (James, G., Witten, D., Hastie, T., Tibshirani, R., & Taylor, J.). The goal is to provide an introduction to Python programming for students with little to no coding experience.\n",
        "\n",
        "---\n",
        "\n",
        "## Open in Google Colab\n",
        "\n",
        "You can run this notebook directly in your browser without installing Python or other software! Click the badge below to open in Google Colab:\n",
        "\n",
        "[![Open In Colab](https://colab.research.google.com/assets/colab-badge.svg)](https://colab.research.google.com/github/chuckgrigsby0/agec-784/blob/main/scripts/intro-to-python-w-desc.ipynb)\n",
        "\n",
        "---\n",
        "\n",
        "## What is Python?\n",
        "\n",
        "Python is a programming language that's widely used in data analysis, business analytics, and scientific computing. Think of it as a more powerful version of Excel that can handle complex calculations, create professional visualizations, and automate repetitive tasks.\n",
        "\n",
        "This notebook will introduce you to:\n",
        "- Basic Python syntax\n",
        "- Working with data (numbers, lists, and tables)\n",
        "- Creating visualizations\n",
        "- Analyzing real data"
      ]
    },
    {
      "cell_type": "markdown",
      "metadata": {},
      "source": [
        "## 1. Your First Python Code\n",
        "\n",
        "The `print()` function displays text or results on the screen."
      ]
    },
    {
      "cell_type": "code",
      "execution_count": 1,
      "metadata": {},
      "outputs": [
        {
          "name": "stdout",
          "output_type": "stream",
          "text": [
            "Hello World!\n",
            "Hello World!\n"
          ]
        }
      ],
      "source": [
        "# Print a simple message\n",
        "print('Hello World!')\n",
        "\n",
        "# You can also combine text using the + operator\n",
        "print(\"Hello\" + \" \" + \"World!\")"
      ]
    },
    {
      "cell_type": "markdown",
      "metadata": {},
      "source": [
        "### Getting Help\n",
        "\n",
        "In Python, you can add a `?` after any function to access documentation about how it works."
      ]
    },
    {
      "cell_type": "code",
      "execution_count": null,
      "metadata": {},
      "outputs": [],
      "source": [
        "# Display help documentation for the print function\n",
        "print?"
      ]
    },
    {
      "cell_type": "markdown",
      "metadata": {},
      "source": [
        "## 2. Lists and Arrays\n",
        "\n",
        "### Lists\n",
        "\n",
        "A **list** is a collection of values, similar to a column or row in Excel. Lists are created using square brackets `[]`."
      ]
    },
    {
      "cell_type": "code",
      "execution_count": 2,
      "metadata": {},
      "outputs": [
        {
          "data": {
            "text/plain": [
              "[1, 2, 3, 4, 5, 9, 10, 11, 12, 13]"
            ]
          },
          "execution_count": 2,
          "metadata": {},
          "output_type": "execute_result"
        }
      ],
      "source": [
        "# Create a list of numbers\n",
        "x = [1, 2, 3, 4, 5]\n",
        "x  # Display the list\n",
        "\n",
        "# Access the first element (Note: Python starts counting at 0.)\n",
        "x[0]\n",
        "\n",
        "# Create another list\n",
        "y = [9, 10, 11, 12, 13]\n",
        "y[0]  # First element of y\n",
        "\n",
        "# When you add lists, Python combines them (concatenation)\n",
        "x + y"
      ]
    },
    {
      "cell_type": "markdown",
      "metadata": {},
      "source": [
        "### NumPy Arrays\n",
        "\n",
        "[**NumPy**](https://numpy.org/doc/stable/user/whatisnumpy.html) is a Python library for scientific computing. NumPy arrays are like lists but designed specifically for efficient numerical and scientific computing. They allow us to perform calculations element-by-element, similar to how Excel formulas work across cells."
      ]
    },
    {
      "cell_type": "code",
      "execution_count": 3,
      "metadata": {},
      "outputs": [],
      "source": [
        "# Import the NumPy library (np is a common alias for NumPy)\n",
        "import numpy as np"
      ]
    },
    {
      "cell_type": "code",
      "execution_count": 4,
      "metadata": {},
      "outputs": [
        {
          "data": {
            "text/plain": [
              "array([10, 12, 14, 16, 18])"
            ]
          },
          "execution_count": 4,
          "metadata": {},
          "output_type": "execute_result"
        }
      ],
      "source": [
        "# Create NumPy arrays\n",
        "x = np.array([1, 2, 3, 4, 5])\n",
        "y = np.array([9, 10, 11, 12, 13])\n",
        "\n",
        "# Now addition works element-by-element (like Excel!)\n",
        "x + y  # [1+9, 2+10, 3+11, 4+12, 5+13]"
      ]
    },
    {
      "cell_type": "markdown",
      "metadata": {},
      "source": [
        "### 2D Arrays (Matrices)\n",
        "\n",
        "You can create 2-dimensional arrays, which are like small tables or ranges in Excel."
      ]
    },
    {
      "cell_type": "code",
      "execution_count": 6,
      "metadata": {},
      "outputs": [
        {
          "data": {
            "text/plain": [
              "array([[1, 2],\n",
              "       [3, 4]])"
            ]
          },
          "execution_count": 6,
          "metadata": {},
          "output_type": "execute_result"
        }
      ],
      "source": [
        "# Create a 2x2 matrix (2 rows, 2 columns)\n",
        "x = np.array([[1, 2], [3, 4]])\n",
        "x # Display the matrix"
      ]
    },
    {
      "cell_type": "code",
      "execution_count": 7,
      "metadata": {},
      "outputs": [
        {
          "name": "stdout",
          "output_type": "stream",
          "text": [
            "[1 2]\n",
            "[3 4]\n",
            "4\n"
          ]
        }
      ],
      "source": [
        "# Access elements using [row, column]\n",
        "print(x[0])      # First row\n",
        "print(x[1])      # Second row\n",
        "print(x[1, 1])   # Element at row 1, column 1 (the value 4)"
      ]
    },
    {
      "cell_type": "markdown",
      "metadata": {},
      "source": [
        "### Array Properties\n",
        "\n",
        "Arrays have properties that tell you about their structure:"
      ]
    },
    {
      "cell_type": "code",
      "execution_count": 8,
      "metadata": {},
      "outputs": [
        {
          "name": "stdout",
          "output_type": "stream",
          "text": [
            "(2, 2)\n",
            "2\n",
            "int64\n"
          ]
        }
      ],
      "source": [
        "# Get information about the array\n",
        "print(x.shape)  # Dimensions: (rows, columns)\n",
        "print(x.ndim)   # Number of dimensions (1D, 2D, etc.)\n",
        "print(x.dtype)  # Data type (int64 = integer numbers)"
      ]
    },
    {
      "cell_type": "code",
      "execution_count": 9,
      "metadata": {},
      "outputs": [
        {
          "name": "stdout",
          "output_type": "stream",
          "text": [
            "float64\n"
          ]
        }
      ],
      "source": [
        "# Arrays can also store decimal numbers (floats)\n",
        "z = np.array([[1.5, 2.3], [3.1, 4.4]])\n",
        "print(z.dtype)  # float64 = decimal numbers"
      ]
    },
    {
      "cell_type": "markdown",
      "metadata": {},
      "source": [
        "## 3. Methods and Functions\n",
        "\n",
        "**Methods** are built-in operations you can perform on data. Think of them like Excel functions (SUM, AVERAGE, etc.)."
      ]
    },
    {
      "cell_type": "code",
      "execution_count": 10,
      "metadata": {},
      "outputs": [
        {
          "name": "stdout",
          "output_type": "stream",
          "text": [
            "15\n",
            "15\n",
            "3.0\n",
            "3.0\n"
          ]
        }
      ],
      "source": [
        "# Create an array\n",
        "x = np.array([1, 2, 3, 4, 5])\n",
        "\n",
        "# Calculate sum - two ways to do the same thing\n",
        "print(x.sum())      # Method syntax\n",
        "print(np.sum(x))    # Function syntax\n",
        "\n",
        "# Calculate mean (average)\n",
        "print(x.mean())     # Method syntax\n",
        "print(np.mean(x))   # Function syntax"
      ]
    },
    {
      "cell_type": "code",
      "execution_count": 11,
      "metadata": {},
      "outputs": [
        {
          "name": "stdout",
          "output_type": "stream",
          "text": [
            "[ 3.16227766  4.47213595 10.          6.32455532  7.07106781  7.74596669]\n",
            "[ 3.16227766  4.47213595 10.          6.32455532  7.07106781  7.74596669]\n",
            "[  100   400 10000  1600  2500  3600]\n"
          ]
        }
      ],
      "source": [
        "# More mathematical operations\n",
        "x = np.array([10, 20, 100, 40, 50, 60])\n",
        "\n",
        "print(np.sqrt(x))  # Square root of each element\n",
        "print(x**0.5)      # Another way to calculate square root\n",
        "print(x**2)        # Square each element"
      ]
    },
    {
      "cell_type": "markdown",
      "metadata": {},
      "source": [
        "### Reshaping Arrays\n",
        "\n",
        "You can change the shape of an array, like transposing data in Excel."
      ]
    },
    {
      "cell_type": "code",
      "execution_count": 12,
      "metadata": {},
      "outputs": [
        {
          "name": "stdout",
          "output_type": "stream",
          "text": [
            "Vector x:\n",
            " [10 20 30 40 50 60]\n",
            "Matrix x:\n",
            " [[10 20 30]\n",
            " [40 50 60]]\n"
          ]
        }
      ],
      "source": [
        "# Create a 1D array with 6 elements\n",
        "x = np.array([10, 20, 30, 40, 50, 60])\n",
        "print('Vector x:\\n', x)\n",
        "\n",
        "# Reshape it into a 2x3 matrix (2 rows, 3 columns)\n",
        "x_reshape = x.reshape((2, 3))\n",
        "print('Matrix x:\\n', x_reshape)"
      ]
    },
    {
      "cell_type": "code",
      "execution_count": 13,
      "metadata": {},
      "outputs": [
        {
          "name": "stdout",
          "output_type": "stream",
          "text": [
            "10\n",
            "60\n"
          ]
        }
      ],
      "source": [
        "# Access elements in the reshaped matrix\n",
        "print(x_reshape[0, 0])  # First row, first column (10)\n",
        "print(x_reshape[1, 2])  # Second row, third column (60)"
      ]
    },
    {
      "cell_type": "markdown",
      "metadata": {},
      "source": [
        "### Important Note About Arrays\n",
        "\n",
        "When you reshape an array, it creates a **view** of the original data, not a copy. Changes to one affect the other!"
      ]
    },
    {
      "cell_type": "code",
      "execution_count": 14,
      "metadata": {},
      "outputs": [
        {
          "name": "stdout",
          "output_type": "stream",
          "text": [
            "Before:\n",
            " [10 20 30 40 50 60]\n",
            "After:\n",
            " [[ 10  20 100]\n",
            " [ 40  50  60]]\n",
            "After:\n",
            " [ 10  20 100  40  50  60]\n"
          ]
        }
      ],
      "source": [
        "# Show the original array\n",
        "print('Before:\\n', x)\n",
        "\n",
        "# Change a value in the reshaped array\n",
        "x_reshape[0, 2] = 100\n",
        "\n",
        "# Both arrays are affected!\n",
        "print('After:\\n', x_reshape)\n",
        "print('After:\\n', x)"
      ]
    },
    {
      "cell_type": "markdown",
      "id": "4100e8c0",
      "metadata": {},
      "source": [
        "If you want to create an independent copy of the reshaped array that won't affect the original, use the `.copy()` method:"
      ]
    },
    {
      "cell_type": "code",
      "execution_count": 15,
      "id": "822019e7",
      "metadata": {},
      "outputs": [
        {
          "name": "stdout",
          "output_type": "stream",
          "text": [
            "Before:\n",
            " [10 20 30 40 50 60]\n",
            "After:\n",
            " [[ 10  20 100]\n",
            " [ 40  50  60]]\n",
            "After:\n",
            " [10 20 30 40 50 60]\n"
          ]
        }
      ],
      "source": [
        "# Create a 1D array with 6 elements\n",
        "x = np.array([10, 20, 30, 40, 50, 60])\n",
        "\n",
        "x_reshape = x.reshape(2, 3).copy()  # Create a copy to avoid changing the original\n",
        "print('Before:\\n', x)\n",
        "\n",
        "x_reshape[0, 2] = 100  # Change a value in the reshaped array\n",
        "print('After:\\n', x_reshape)\n",
        "print('After:\\n', x)  # Original array remains unchanged"
      ]
    },
    {
      "cell_type": "markdown",
      "metadata": {},
      "source": [
        "## 4. Tuples\n",
        "\n",
        "**Tuples** are like lists, but they're **immutable** (can't be changed after creation). They're useful for storing data that shouldn't be modified."
      ]
    },
    {
      "cell_type": "code",
      "execution_count": 46,
      "metadata": {},
      "outputs": [
        {
          "name": "stdout",
          "output_type": "stream",
          "text": [
            "(1, 2, 3, 4, 5)\n"
          ]
        },
        {
          "ename": "TypeError",
          "evalue": "'tuple' object does not support item assignment",
          "output_type": "error",
          "traceback": [
            "\u001b[31m---------------------------------------------------------------------------\u001b[39m",
            "\u001b[31mTypeError\u001b[39m                                 Traceback (most recent call last)",
            "\u001b[36mCell\u001b[39m\u001b[36m \u001b[39m\u001b[32mIn[46]\u001b[39m\u001b[32m, line 6\u001b[39m\n\u001b[32m      3\u001b[39m \u001b[38;5;28mprint\u001b[39m(x_tuple)\n\u001b[32m      5\u001b[39m \u001b[38;5;66;03m# Try to change an element - this will cause an error!\u001b[39;00m\n\u001b[32m----> \u001b[39m\u001b[32m6\u001b[39m \u001b[43mx_tuple\u001b[49m\u001b[43m[\u001b[49m\u001b[32;43m0\u001b[39;49m\u001b[43m]\u001b[49m = \u001b[32m2\u001b[39m  \u001b[38;5;66;03m# TypeError: can't modify a tuple\u001b[39;00m\n",
            "\u001b[31mTypeError\u001b[39m: 'tuple' object does not support item assignment"
          ]
        }
      ],
      "source": [
        "# Create a tuple using parentheses\n",
        "x_tuple = (1, 2, 3, 4, 5)\n",
        "print(x_tuple)\n",
        "\n",
        "# Try to change an element - this will cause an error!\n",
        "x_tuple[0] = 2  # TypeError: can't modify a tuple"
      ]
    },
    {
      "cell_type": "code",
      "execution_count": 17,
      "metadata": {},
      "outputs": [
        {
          "data": {
            "text/plain": [
              "((2, 3),\n",
              " 2,\n",
              " array([[ 10,  40],\n",
              "        [ 20,  50],\n",
              "        [100,  60]]))"
            ]
          },
          "execution_count": 17,
          "metadata": {},
          "output_type": "execute_result"
        }
      ],
      "source": [
        "# Tuples are useful for returning multiple values from operations\n",
        "# For example, getting multiple properties at once:\n",
        "x_reshape.shape, x_reshape.ndim, x_reshape.T  # Output as tuple"
      ]
    },
    {
      "cell_type": "markdown",
      "metadata": {},
      "source": [
        "## 5. Random Number Generation\n",
        "\n",
        "Random numbers are useful for simulations and statistical analysis. We'll generate numbers from a **normal distribution** (the familiar bell curve).\n",
        "\n",
        "The `np.random.normal()` function requires three arguments:\n",
        "- **`loc`**: the mean (center) of the distribution\n",
        "- **`scale`**: the standard deviation (spread) of the distribution  \n",
        "- **`size`**: how many random numbers to generate"
      ]
    },
    {
      "cell_type": "code",
      "execution_count": 47,
      "metadata": {},
      "outputs": [
        {
          "name": "stdout",
          "output_type": "stream",
          "text": [
            "[ 0.92597117 -0.361473   -0.49231084 -0.07112709  0.42458982 -0.89904434\n",
            " -0.00111612  0.57342152  0.00900029  0.66927343]\n",
            "[3.80889594 5.64305036 5.31017303 3.19075652 6.39970605]\n"
          ]
        }
      ],
      "source": [
        "# Generate 10 random numbers from a standard normal distribution\n",
        "# (mean=0, standard deviation=1)\n",
        "print(np.random.normal(loc=0.0, scale=1.0, size=10))\n",
        "\n",
        "# Generate 5 random numbers with mean=5, standard deviation=2\n",
        "print(np.random.normal(loc=5, scale=2, size=5))"
      ]
    },
    {
      "cell_type": "code",
      "execution_count": 78,
      "metadata": {},
      "outputs": [
        {
          "data": {
            "text/plain": [
              "array([[1.        , 0.15033823],\n",
              "       [0.15033823, 1.        ]])"
            ]
          },
          "execution_count": 78,
          "metadata": {},
          "output_type": "execute_result"
        }
      ],
      "source": [
        "# Create two related variables\n",
        "x = np.random.normal(size=100)  # Standard normal (mean=0, std=1)\n",
        "y = x + np.random.normal(loc=100, scale=5, size=100)\n",
        "\n",
        "# Calculate correlation coefficient (ranges from -1 to 1)\n",
        "np.corrcoef(x, y)"
      ]
    },
    {
      "cell_type": "markdown",
      "metadata": {},
      "source": [
        "### Setting a Random Seed\n",
        "\n",
        "Each call to `np.random.normal()` generates different random numbers. To make your results **reproducible** (get the same numbers every time), set a **seed**."
      ]
    },
    {
      "cell_type": "code",
      "execution_count": 77,
      "metadata": {},
      "outputs": [
        {
          "name": "stdout",
          "output_type": "stream",
          "text": [
            "[ 4.79294245  6.7177798  13.15372222 11.383161   12.78658764]\n",
            "[ 4.79294245  6.7177798  13.15372222 11.383161   12.78658764]\n"
          ]
        }
      ],
      "source": [
        "# Create a random number generator with a specific seed\n",
        "rng = np.random.default_rng(865)\n",
        "print(rng.normal(loc=10, scale=2, size=5))\n",
        "\n",
        "# Use the same seed again - you'll get the exact same numbers. This is useful for reproducibility.\n",
        "rng = np.random.default_rng(865)\n",
        "print(rng.normal(loc=10, scale=2, size=5))"
      ]
    },
    {
      "cell_type": "markdown",
      "metadata": {},
      "source": [
        "### Summary Statistics\n",
        "\n",
        "Let's generate some data and calculate common statistics."
      ]
    },
    {
      "cell_type": "code",
      "execution_count": 79,
      "metadata": {},
      "outputs": [
        {
          "name": "stdout",
          "output_type": "stream",
          "text": [
            "\n",
            "Summary Statistics:\n",
            "  Mean:     10.95\n",
            "  Median:   10.48\n",
            "  Std Dev:  5.69\n",
            "  Min:      -3.02\n",
            "  Max:      22.96\n",
            "  Variance: 32.32\n",
            "\n"
          ]
        }
      ],
      "source": [
        "# Generate 50 random numbers with mean=10, std=5\n",
        "rng = np.random.default_rng(865)\n",
        "x = rng.normal(loc=10, scale=5, size=50) # Mean 10, Std Dev 5, Size 50\n",
        "\n",
        "# Calculate summary statistics\n",
        "# f-strings allow us to embed expressions inside {}\n",
        "# :.2f formats numbers to 2 decimal places\n",
        "print(f\"\"\"\n",
        "Summary Statistics:\n",
        "  Mean:     {np.mean(x):.2f}\n",
        "  Median:   {np.median(x):.2f}\n",
        "  Std Dev:  {np.std(x, ddof=1):.2f}\n",
        "  Min:      {np.min(x):.2f}\n",
        "  Max:      {np.max(x):.2f}\n",
        "  Variance: {np.var(x, ddof=1):.2f}\n",
        "\"\"\")"
      ]
    },
    {
      "cell_type": "markdown",
      "metadata": {},
      "source": [
        "### Operations Along Axes\n",
        "\n",
        "For 2D arrays, you can calculate statistics along rows or columns."
      ]
    },
    {
      "cell_type": "code",
      "execution_count": 88,
      "metadata": {},
      "outputs": [
        {
          "name": "stdout",
          "output_type": "stream",
          "text": [
            "\n",
            "First 5 rows:\n",
            "[[-0.98912135 -0.36778665  1.28792526]\n",
            " [ 0.19397442  0.9202309   0.57710379]\n",
            " [-0.63646365  0.54195222 -0.31659545]\n",
            " [-0.32238912  0.09716732 -1.52593041]\n",
            " [ 1.1921661  -0.67108968  1.00026942]]\n",
            "        \n",
            "\n",
            "Mean of each column:\n",
            "[0.03866697 0.04288419 0.03744128]\n",
            "Shorthand syntax:\n",
            "[0.03866697 0.04288419 0.03744128]\n",
            "Mean of each row:\n",
            "[-0.02299425  0.5637697  -0.13703563 -0.5837174   0.50711528] \n",
            "\n"
          ]
        }
      ],
      "source": [
        "rng = np.random.default_rng(123)\n",
        "# Create a 100x3 matrix (100 rows, 3 columns)\n",
        "X = rng.standard_normal(size=(100, 3))\n",
        "print(f\"\"\"\n",
        "First 5 rows:\n",
        "{X[:5]}\n",
        "        \"\"\")\n",
        "\n",
        "# Calculate mean of each column (axis=0 means \"down the rows\")\n",
        "print(f\"\"\"\n",
        "Mean of each column:\n",
        "{X.mean(axis=0)}\n",
        "Shorthand syntax:\n",
        "{X.mean(0)}\n",
        "Mean of each row:\n",
        "{X.mean(axis=1)[:5]} \n",
        "\"\"\")"
      ]
    },
    {
      "cell_type": "markdown",
      "metadata": {},
      "source": [
        "## 6. Visualizations\n",
        "\n",
        "Data visualization helps us understand patterns and relationships in data. Python's **matplotlib** library allows us to create high-quality visualizations.\n",
        "\n",
        "For more examples, visit the [matplotlib gallery](https://matplotlib.org/stable/gallery/index.html)."
      ]
    },
    {
      "cell_type": "code",
      "execution_count": 100,
      "metadata": {},
      "outputs": [
        {
          "data": {
            "image/png": "[encoded data removed]",
            "text/plain": [
              "<Figure size 800x800 with 1 Axes>"
            ]
          },
          "metadata": {},
          "output_type": "display_data"
        }
      ],
      "source": [
        "# Import matplotlib's plotting functions\n",
        "from matplotlib.pyplot import subplots\n",
        "import matplotlib.pyplot as plt\n",
        "\n",
        "# Generate random data\n",
        "rng = np.random.default_rng(865)\n",
        "x = rng.normal(loc=10, scale=5, size=100)\n",
        "y = rng.normal(loc=10, scale=5, size=100)\n",
        "\n",
        "# Create a scatter plot\n",
        "fig, ax = subplots(figsize=(8, 8))  # Create figure and axis\n",
        "ax.scatter(x, y, marker='o')        # Plot the points\n",
        "ax.set_xlabel('X')                  # Label x-axis\n",
        "ax.set_ylabel('Y')                  # Label y-axis\n",
        "ax.set_title('Scatter plot of X and Y')  # Add title\n",
        "\n",
        "# Resize the figure\n",
        "fig.set_size_inches(8, 8)"
      ]
    },
    {
      "cell_type": "markdown",
      "metadata": {},
      "source": [
        "## 7. Create Facet Grids (Multiple Plots)\n",
        "\n",
        "Sometimes you want to display multiple related plots side-by-side. This is called a **facet grid** or **subplot**."
      ]
    },
    {
      "cell_type": "code",
      "execution_count": 126,
      "metadata": {},
      "outputs": [
        {
          "data": {
            "image/png": "[encoded data removed]",
            "text/plain": [
              "<Figure size 1000x1000 with 4 Axes>"
            ]
          },
          "metadata": {},
          "output_type": "display_data"
        }
      ],
      "source": [
        "# Create a 2x2 grid of plots\n",
        "fig, axes = subplots(nrows=2, ncols=2, figsize=(10, 10))\n",
        "\n",
        "# Plot in the top-left position [0, 0]\n",
        "axes[0, 0].scatter(x, y, marker='o', color='blue')\n",
        "axes[0, 0].set_title('Scatter plot of X and Y')\n",
        "axes[0, 0].set_xlabel('X')\n",
        "axes[0, 0].set_ylabel('Y')\n",
        "\n",
        "# Plot in the bottom-right position [1, 1]\n",
        "axes[1, 1].scatter(x, y, marker='x', color='red')\n",
        "axes[1, 1].set_title('Scatter plot of X and Y')\n",
        "axes[1, 1].set_xlabel('X')\n",
        "axes[1, 1].set_ylabel('Y'); "
      ]
    },
    {
      "cell_type": "markdown",
      "metadata": {},
      "source": [
        "### Saving Figures\n",
        "\n",
        "You can save your plots as image files for use in reports or presentations."
      ]
    },
    {
      "cell_type": "code",
      "execution_count": null,
      "metadata": {},
      "outputs": [],
      "source": [
        "# # Save and download the figure\n",
        "# fig.savefig('example-scatterplot.png', dpi=400)\n",
        "\n",
        "# from google.colab import files\n",
        "# files.download('example-scatterplot.png')\n",
        "\n",
        "# Save the figure locally with: \n",
        "# fig.savefig('../output/figures/example-scatterplot.png', dpi=400)"
      ]
    },
    {
      "cell_type": "code",
      "execution_count": null,
      "metadata": {},
      "outputs": [
        {
          "data": {
            "image/png": "[encoded data removed]",
            "text/plain": [
              "<Figure size 1000x1000 with 4 Axes>"
            ]
          },
          "execution_count": 127,
          "metadata": {},
          "output_type": "execute_result"
        }
      ],
      "source": [
        "# Change the axis limits\n",
        "axes[1, 1].set_xlim(left=0,right=5)\n",
        "fig  # Display the figure again"
      ]
    },
    {
      "cell_type": "code",
      "execution_count": 128,
      "id": "7177f341",
      "metadata": {},
      "outputs": [
        {
          "data": {
            "image/png": "[encoded data removed]",
            "text/plain": [
              "<Figure size 1000x1000 with 4 Axes>"
            ]
          },
          "execution_count": 128,
          "metadata": {},
          "output_type": "execute_result"
        }
      ],
      "source": [
        "axes[1, 1].autoscale()\n",
        "#plt.show()\n",
        "fig"
      ]
    },
    {
      "cell_type": "markdown",
      "metadata": {},
      "source": [
        "## 8. Sequences and Slicing\n",
        "\n",
        "Python provides tools to create sequences of numbers and select subsets of data."
      ]
    },
    {
      "cell_type": "code",
      "execution_count": 129,
      "metadata": {},
      "outputs": [
        {
          "name": "stdout",
          "output_type": "stream",
          "text": [
            "[ 1  2  3  4  5  6  7  8  9 10]\n",
            "[0 1 2 3 4 5 6 7 8 9]\n"
          ]
        }
      ],
      "source": [
        "# Create sequences using np.arange(start, stop)\n",
        "# Note: The stop value is NOT included!\n",
        "one_to_ten = np.arange(1, 11)  # 1, 2, 3, ..., 10\n",
        "print(one_to_ten)\n",
        "\n",
        "one_to_nine = np.arange(0, 10)  # 0, 1, 2, ..., 9\n",
        "print(one_to_nine)"
      ]
    },
    {
      "cell_type": "markdown",
      "metadata": {},
      "source": [
        "### Indexing 2D Arrays\n",
        "\n",
        "You can select specific elements, rows, or columns from a matrix."
      ]
    },
    {
      "cell_type": "code",
      "execution_count": 130,
      "metadata": {},
      "outputs": [
        {
          "name": "stdout",
          "output_type": "stream",
          "text": [
            "[[ 1  2  3  4  5]\n",
            " [ 6  7  8  9 10]\n",
            " [11 12 13 14 15]\n",
            " [16 17 18 19 20]]\n"
          ]
        }
      ],
      "source": [
        "# Create a 4x5 matrix with numbers 1-20\n",
        "A = np.arange(1, 21).reshape((4, 5))\n",
        "print(A)"
      ]
    },
    {
      "cell_type": "code",
      "execution_count": 131,
      "metadata": {},
      "outputs": [
        {
          "name": "stdout",
          "output_type": "stream",
          "text": [
            "1\n",
            "8\n"
          ]
        }
      ],
      "source": [
        "# Access individual elements using [row, column]\n",
        "print(A[0, 0])  # First row, first column = 1\n",
        "print(A[1, 2])  # Second row, third column = 8"
      ]
    },
    {
      "cell_type": "code",
      "execution_count": 132,
      "metadata": {},
      "outputs": [
        {
          "data": {
            "text/plain": [
              "array([[11, 12, 13, 14, 15],\n",
              "       [16, 17, 18, 19, 20]])"
            ]
          },
          "execution_count": 132,
          "metadata": {},
          "output_type": "execute_result"
        }
      ],
      "source": [
        "# Select multiple rows\n",
        "A[[2, 3]]  # Selects rows 3 and 4 (indices 2 and 3)"
      ]
    },
    {
      "cell_type": "code",
      "execution_count": 133,
      "metadata": {},
      "outputs": [
        {
          "data": {
            "text/plain": [
              "array([[ 1,  2],\n",
              "       [ 6,  7],\n",
              "       [11, 12],\n",
              "       [16, 17]])"
            ]
          },
          "execution_count": 133,
          "metadata": {},
          "output_type": "execute_result"
        }
      ],
      "source": [
        "# Select specific columns using :\n",
        "# The : means \"all rows\"\n",
        "A[:, [0, 1]]  # All rows, columns 1 and 2"
      ]
    },
    {
      "cell_type": "code",
      "execution_count": 134,
      "metadata": {},
      "outputs": [
        {
          "data": {
            "text/plain": [
              "array([[ 6,  8],\n",
              "       [16, 18]])"
            ]
          },
          "execution_count": 134,
          "metadata": {},
          "output_type": "execute_result"
        }
      ],
      "source": [
        "# Combine row and column selection\n",
        "A[[1, 3]][:, [0, 2]]  # Rows 2 and 4, columns 1 and 3"
      ]
    },
    {
      "cell_type": "markdown",
      "metadata": {},
      "source": [
        "### Slicing with Step Values\n",
        "\n",
        "The syntax `start:stop:step` lets you select elements at regular intervals."
      ]
    },
    {
      "cell_type": "code",
      "execution_count": 147,
      "metadata": {},
      "outputs": [
        {
          "name": "stdout",
          "output_type": "stream",
          "text": [
            "Original array:\n",
            "[[ 1  2  3  4]\n",
            " [ 5  6  7  8]\n",
            " [ 9 10 11 12]\n",
            " [13 14 15 16]\n",
            " [17 18 19 20]]\n",
            "\n",
            "Rows at indices 1 and 3 (every 2nd row from 1, stopping before 4):\n",
            "[[ 5  6  7  8]\n",
            " [13 14 15 16]]\n",
            "\n",
            "Columns at indices 0 and 2 (every 2nd column from 0, stopping before 3):\n",
            "[[ 1  3]\n",
            " [ 5  7]\n",
            " [ 9 11]\n",
            " [13 15]\n",
            " [17 19]]\n",
            "\n",
            "Rows [1,3] AND Columns [0,2]:\n",
            "[[ 5  7]\n",
            " [13 15]]\n"
          ]
        }
      ],
      "source": [
        "# Create array\n",
        "A = np.arange(1, 21).reshape((5, 4))\n",
        "print(\"Original array:\")\n",
        "print(A)\n",
        "print()\n",
        "\n",
        "# Slice notation: start:stop:step\n",
        "# Remember: stop value is never included!\n",
        "\n",
        "# Get rows at indices 1 and 3\n",
        "print(\"Rows at indices 1 and 3 (every 2nd row from 1, stopping before 4):\")\n",
        "print(A[1:4:2, :])\n",
        "print()\n",
        "\n",
        "# Get columns at indices 0 and 2  \n",
        "print(\"Columns at indices 0 and 2 (every 2nd column from 0, stopping before 3):\")\n",
        "print(A[:, 0:3:2])\n",
        "print()\n",
        "\n",
        "# Combine both\n",
        "print(\"Rows [1,3] AND Columns [0,2]:\")\n",
        "print(A[1:4:2, 0:3:2])"
      ]
    },
    {
      "cell_type": "markdown",
      "metadata": {},
      "source": [
        "## 9. Boolean Indexing\n",
        "\n",
        "**Boolean indexing** lets you filter data based on conditions. It's like using Excel's filter feature. "
      ]
    },
    {
      "cell_type": "code",
      "execution_count": 151,
      "metadata": {},
      "outputs": [
        {
          "data": {
            "text/plain": [
              "array([False, False, False, False])"
            ]
          },
          "execution_count": 151,
          "metadata": {},
          "output_type": "execute_result"
        }
      ],
      "source": [
        "# Create an array of False values (one for each row)\n",
        "A = np.arange(1, 21).reshape((4, 5))\n",
        "keep_rows = np.zeros(A.shape[0], dtype=bool)\n",
        "keep_rows"
      ]
    },
    {
      "cell_type": "code",
      "execution_count": 152,
      "metadata": {},
      "outputs": [
        {
          "data": {
            "text/plain": [
              "array([False,  True, False,  True])"
            ]
          },
          "execution_count": 152,
          "metadata": {},
          "output_type": "execute_result"
        }
      ],
      "source": [
        "# Set specific positions to True\n",
        "keep_rows[[1, 3]] = True\n",
        "keep_rows  # [False, True, False, True]"
      ]
    },
    {
      "cell_type": "code",
      "execution_count": 156,
      "metadata": {},
      "outputs": [
        {
          "data": {
            "text/plain": [
              "array([[ 6,  7,  8,  9, 10],\n",
              "       [16, 17, 18, 19, 20]])"
            ]
          },
          "execution_count": 156,
          "metadata": {},
          "output_type": "execute_result"
        }
      ],
      "source": [
        "# Using boolean array selects only True rows\n",
        "A[keep_rows]  # Selects rows 2 and 4"
      ]
    },
    {
      "cell_type": "markdown",
      "metadata": {},
      "source": [
        "### Boolean Indexing for Rows and Columns\n",
        "\n",
        "You can use `np.ix_()` to filter both rows and columns simultaneously."
      ]
    },
    {
      "cell_type": "code",
      "execution_count": 159,
      "metadata": {},
      "outputs": [
        {
          "data": {
            "text/plain": [
              "array([ True, False,  True,  True, False])"
            ]
          },
          "execution_count": 159,
          "metadata": {},
          "output_type": "execute_result"
        }
      ],
      "source": [
        "# Create a boolean array for columns\n",
        "keep_cols = np.zeros(A.shape[1], bool)\n",
        "keep_cols[[0, 2, 3]] = True  # Keep columns 1, 3, and 4\n",
        "\n",
        "# Display the column filter\n",
        "keep_cols"
      ]
    },
    {
      "cell_type": "code",
      "execution_count": null,
      "metadata": {},
      "outputs": [
        {
          "name": "stdout",
          "output_type": "stream",
          "text": [
            "Original array:\n",
            "[[ 1  2  3  4  5]\n",
            " [ 6  7  8  9 10]\n",
            " [11 12 13 14 15]\n",
            " [16 17 18 19 20]]\n",
            "\n",
            "Filtered array:\n",
            "[[ 6  8  9]\n",
            " [16 18 19]]\n"
          ]
        }
      ],
      "source": [
        "print('Original array:')\n",
        "print(A)\n",
        "\n",
        "# Create a 2D boolean index\n",
        "idx_bool = np.ix_(keep_rows, keep_cols) # Combine row and column filters\n",
        "\n",
        "print('\\nFiltered array:')\n",
        "print(A[idx_bool])  # Rows 2 and 4, columns 1, 3, and 4"
      ]
    },
    {
      "cell_type": "code",
      "execution_count": 167,
      "metadata": {},
      "outputs": [
        {
          "data": {
            "text/plain": [
              "array([[ 6,  8,  9],\n",
              "       [16, 18, 19]])"
            ]
          },
          "execution_count": 167,
          "metadata": {},
          "output_type": "execute_result"
        }
      ],
      "source": [
        "# We also can mix different indexing methods\n",
        "A[np.ix_([1, 3], keep_cols)]  # Specific rows, boolean columns"
      ]
    },
    {
      "cell_type": "code",
      "execution_count": null,
      "id": "d2c3bfea",
      "metadata": {},
      "outputs": [],
      "source": [
        "import pandas as pd\n",
        "import seaborn as sns\n",
        "import matplotlib.pyplot as plt"
      ]
    },
    {
      "cell_type": "markdown",
      "id": "23aaaaec",
      "metadata": {},
      "source": [
        "## 10. Working with Real Data\n",
        "\n",
        "Now we'll work with real-world data using **pandas**, a powerful library designed for data analysis and manipulation. Pandas specializes in handling tabular data similar to spreadsheets and CSV files."
      ]
    },
    {
      "cell_type": "code",
      "execution_count": null,
      "id": "8873a823",
      "metadata": {},
      "outputs": [],
      "source": [
        "# Import pandas (aliased as pd)\n",
        "import pandas as pd\n",
        "\n",
        "# Set up file paths (you may need to adjust these for your computer)\n",
        "root_dir = 'C:\\\\Users\\\\cgrigsby\\\\OneDrive - University of Tennessee\\\\Documents\\\\GitHub\\\\'\n",
        "data_dir = root_dir + 'agec-784\\\\data\\\\'\n",
        "\n",
        "# Load the CSV file into a DataFrame (like an Excel table)\n",
        "solar_data = pd.read_csv(data_dir + 'evergreen-solar.csv')"
      ]
    },
    {
      "cell_type": "markdown",
      "id": "402373f5",
      "metadata": {},
      "source": [
        "### Exploring the Data\n",
        "\n",
        "Let's take a first look at our solar panel installation dataset."
      ]
    },
    {
      "cell_type": "code",
      "execution_count": null,
      "id": "2aab59d9",
      "metadata": {},
      "outputs": [],
      "source": [
        "# Display the first 5 rows\n",
        "solar_data.head()"
      ]
    },
    {
      "cell_type": "markdown",
      "id": "ec13481b",
      "metadata": {},
      "source": [
        "**What do these columns mean?**\n",
        "- **Household**: Customer ID number\n",
        "- **Income**: Customer's income level (Low, Medium, High)\n",
        "- **PSH**: Peak sun hours available (Low, Medium, High)\n",
        "- **Install?**: Did the customer install solar panels? (Yes/No)\n",
        "- **Bid**: Amount bid to the customer\n",
        "- **Installation**: Cost of installation\n",
        "- **Revenue**: Income from the installation\n",
        "- **Profit**: Net profit (Revenue - Installation - Bid)"
      ]
    },
    {
      "cell_type": "code",
      "execution_count": null,
      "id": "5daace4f",
      "metadata": {},
      "outputs": [],
      "source": [
        "# Check unique values in the Income column\n",
        "np.unique(solar_data['Income'])"
      ]
    },
    {
      "cell_type": "code",
      "execution_count": null,
      "id": "9b261e9e",
      "metadata": {},
      "outputs": [],
      "source": [
        "# Get the dimensions of the dataset\n",
        "solar_data.shape  # (100 rows, 8 columns)"
      ]
    },
    {
      "cell_type": "markdown",
      "id": "bbcc4011",
      "metadata": {},
      "source": [
        "### Checking for Missing Data\n",
        "\n",
        "It's important to check if your data has any missing values."
      ]
    },
    {
      "cell_type": "code",
      "execution_count": null,
      "id": "ca7e15a3",
      "metadata": {},
      "outputs": [],
      "source": [
        "# Count missing values in each column\n",
        "solar_data.isna().sum()\n",
        "\n",
        "# If we had missing values, we could remove them with:\n",
        "# solar_data = solar_data.dropna()"
      ]
    },
    {
      "cell_type": "markdown",
      "id": "2f107635",
      "metadata": {},
      "source": [
        "## 11. Selecting Rows and Columns\n",
        "\n",
        "Pandas provides several ways to select subsets of your data."
      ]
    },
    {
      "cell_type": "code",
      "execution_count": null,
      "id": "c7700df2",
      "metadata": {},
      "outputs": [],
      "source": [
        "# View all column names\n",
        "solar_data.columns"
      ]
    },
    {
      "cell_type": "code",
      "execution_count": null,
      "id": "982c3ef8",
      "metadata": {},
      "outputs": [],
      "source": [
        "# Select the first 5 rows using slicing\n",
        "print(solar_data[:5])"
      ]
    },
    {
      "cell_type": "code",
      "execution_count": null,
      "id": "0ae59f4c",
      "metadata": {},
      "outputs": [],
      "source": [
        "# Select rows 6-10 (indices 5-9)\n",
        "print(solar_data[5:10])"
      ]
    },
    {
      "cell_type": "code",
      "execution_count": null,
      "id": "b17e0f30",
      "metadata": {},
      "outputs": [],
      "source": [
        "# Select rows 11-15 (indices 10-14)\n",
        "print(solar_data[10:15])"
      ]
    },
    {
      "cell_type": "markdown",
      "id": "3b43def8",
      "metadata": {},
      "source": [
        "## 12. Filter Data Using Booleans\n",
        "\n",
        "You can filter rows based on conditions, just like Excel's AutoFilter."
      ]
    },
    {
      "cell_type": "code",
      "execution_count": null,
      "id": "759c4b66",
      "metadata": {},
      "outputs": [],
      "source": [
        "# Show all unique income levels\n",
        "print(np.unique(solar_data['Income']))\n",
        "\n",
        "# Filter to only low-income customers\n",
        "solar_data_low_income = solar_data[solar_data['Income'] == 'Low']\n",
        "\n",
        "# Verify the filter worked\n",
        "print(np.unique(solar_data_low_income['Income']))\n",
        "\n",
        "# Display the first few rows\n",
        "solar_data_low_income.head()"
      ]
    },
    {
      "cell_type": "markdown",
      "id": "019116f4",
      "metadata": {},
      "source": [
        "### Select Specific Columns\n",
        "\n",
        "You can create a new DataFrame with only the columns you need."
      ]
    },
    {
      "cell_type": "code",
      "execution_count": null,
      "id": "52a17eaa",
      "metadata": {},
      "outputs": [],
      "source": [
        "# Select only Income, Install, and Profit columns\n",
        "solar_data_select = solar_data[['Income', 'Install?', 'Profit']]\n",
        "solar_data_select.head()"
      ]
    },
    {
      "cell_type": "markdown",
      "id": "ba749117",
      "metadata": {},
      "source": [
        "## 13. Rename Columns\n",
        "\n",
        "Column names with special characters (like `?`) can be awkward. Let's rename them."
      ]
    },
    {
      "cell_type": "code",
      "execution_count": null,
      "id": "d01d0c66",
      "metadata": {},
      "outputs": [],
      "source": [
        "# Rename 'Install?' to 'Install'\n",
        "solar_data = solar_data.rename(columns={'Install?': 'Install'})\n",
        "solar_data.columns"
      ]
    },
    {
      "cell_type": "markdown",
      "id": "2fdbad9d",
      "metadata": {},
      "source": [
        "## 14. Advanced Filtering with `.iloc[]` and `.loc[]`\n",
        "\n",
        "- **`.iloc[]`**: Select by position (integer index)\n",
        "- **`.loc[]`**: Select by label (column names) or boolean conditions"
      ]
    },
    {
      "cell_type": "code",
      "execution_count": null,
      "id": "4349fe6c",
      "metadata": {},
      "outputs": [],
      "source": [
        "# Select rows by position (1st, 4th, and 6th rows)\n",
        "solar_data.iloc[[0, 3, 5]]"
      ]
    },
    {
      "cell_type": "code",
      "execution_count": null,
      "id": "4197de9f",
      "metadata": {},
      "outputs": [],
      "source": [
        "# Select specific rows AND columns by position\n",
        "solar_data.iloc[[0, 3, 5], [0, 1, 2]]"
      ]
    },
    {
      "cell_type": "markdown",
      "id": "83344766",
      "metadata": {},
      "source": [
        "### Filtering with Conditions\n",
        "\n",
        "Let's analyze profits for customers who did and didn't install solar panels."
      ]
    },
    {
      "cell_type": "code",
      "execution_count": null,
      "id": "e697da9d",
      "metadata": {},
      "outputs": [],
      "source": [
        "# Filter to customers with positive or zero profit\n",
        "solar_data_positive_profit = solar_data[solar_data['Profit'] >= 0]\n",
        "\n",
        "# Get summary statistics (mean, std, min, max, etc.)\n",
        "solar_data_positive_profit['Profit'].describe().round(2)"
      ]
    },
    {
      "cell_type": "code",
      "execution_count": null,
      "id": "02aa37ce",
      "metadata": {},
      "outputs": [],
      "source": [
        "# Filter to customers with negative profit\n",
        "solar_data_negative_profit = solar_data[solar_data['Profit'] < 0]\n",
        "\n",
        "# Get summary statistics\n",
        "solar_data_negative_profit['Profit'].describe().round(2)"
      ]
    },
    {
      "cell_type": "markdown",
      "id": "329d9597",
      "metadata": {},
      "source": [
        "### Using Lambda Functions\n",
        "\n",
        "A **lambda function** is a short, anonymous function. It's useful for quick filtering operations."
      ]
    },
    {
      "cell_type": "code",
      "execution_count": null,
      "id": "d9f2abd2",
      "metadata": {},
      "outputs": [],
      "source": [
        "# Use lambda to filter rows where Profit > 0\n",
        "# and select only specific columns\n",
        "solar_data.loc[lambda df: df['Profit'] > 0, ['Income', 'Install', 'Profit']].head()"
      ]
    },
    {
      "cell_type": "markdown",
      "id": "0daec34c",
      "metadata": {},
      "source": [
        "### Summary Statistics\n",
        "\n",
        "The `.describe()` method gives you a quick statistical summary of numerical columns."
      ]
    },
    {
      "cell_type": "code",
      "execution_count": null,
      "id": "e9c70b58",
      "metadata": {},
      "outputs": [],
      "source": [
        "# Get summary statistics for all numerical columns\n",
        "solar_data.describe().round(2)"
      ]
    },
    {
      "cell_type": "markdown",
      "id": "4e1bf5b0",
      "metadata": {},
      "source": [
        "### Combining Multiple Conditions\n",
        "\n",
        "You can combine conditions using:\n",
        "- **`&`** for AND (both conditions must be true)\n",
        "- **`|`** for OR (at least one condition must be true)"
      ]
    },
    {
      "cell_type": "code",
      "execution_count": null,
      "id": "91d96520",
      "metadata": {},
      "outputs": [],
      "source": [
        "# Filter to customers with above-median installation AND revenue\n",
        "solar_data.loc[\n",
        "    lambda df: (df['Installation'] > 10.68) & (df['Revenue'] > 16.26),\n",
        "    ['Installation', 'Revenue']\n",
        "].describe().round(2)"
      ]
    },
    {
      "cell_type": "code",
      "execution_count": null,
      "id": "03a132c4",
      "metadata": {},
      "outputs": [],
      "source": [
        "# Filter to installers who are Low OR Medium income\n",
        "solar_data.loc[\n",
        "    lambda df: (df['Install'] == 'Yes') & \n",
        "               ((df['Income'] == 'Low') | (df['Income'] == 'Medium')),\n",
        "    ['Profit']\n",
        "].describe().round(2)"
      ]
    },
    {
      "cell_type": "code",
      "execution_count": null,
      "id": "98e36da0",
      "metadata": {},
      "outputs": [],
      "source": [
        "# Filter to high-income installers\n",
        "solar_data.loc[\n",
        "    lambda df: (df['Install'] == 'Yes') & (df['Income'] == 'High'),\n",
        "    ['Profit']\n",
        "].describe().round(2)"
      ]
    },
    {
      "cell_type": "markdown",
      "id": "299beb93",
      "metadata": {},
      "source": [
        "### Counting Values\n",
        "\n",
        "Use `.value_counts()` to see how many times each value appears (like Excel's COUNTIF)."
      ]
    },
    {
      "cell_type": "code",
      "execution_count": null,
      "id": "ae026c49",
      "metadata": {},
      "outputs": [],
      "source": [
        "# Count how many customers installed vs. didn't install\n",
        "solar_data['Install'].value_counts()"
      ]
    },
    {
      "cell_type": "code",
      "execution_count": null,
      "id": "614438ea",
      "metadata": {},
      "outputs": [],
      "source": [
        "# Get summary statistics for all columns (including categorical)\n",
        "solar_data.describe(include='all').round(2)"
      ]
    },
    {
      "cell_type": "markdown",
      "id": "5898deda",
      "metadata": {},
      "source": [
        "## 15. Plotting in Seaborn\n",
        "\n",
        "**Seaborn** is a visualization library built on matplotlib that makes creating attractive statistical graphics easier. It's designed for data analysis and works great with pandas DataFrames!"
      ]
    },
    {
      "cell_type": "code",
      "execution_count": null,
      "id": "e83f479a",
      "metadata": {},
      "outputs": [],
      "source": [
        "# Import seaborn and matplotlib\n",
        "import seaborn as sns\n",
        "import matplotlib.pyplot as plt"
      ]
    },
    {
      "cell_type": "code",
      "execution_count": null,
      "id": "b09adb7f",
      "metadata": {},
      "outputs": [],
      "source": [
        "# Create a simple boxplot\n",
        "# Shows the distribution of Profit for each Income level\n",
        "sns.boxplot(y='Profit', x='Income', data=solar_data)"
      ]
    },
    {
      "cell_type": "markdown",
      "id": "5af5ccea",
      "metadata": {},
      "source": [
        "### Improving the Visualization\n",
        "\n",
        "Let's enhance our plot by:\n",
        "1. Ordering income categories logically (Low → Medium → High)\n",
        "2. Applying a professional color scheme\n",
        "3. Adding clear labels and titles"
      ]
    },
    {
      "cell_type": "code",
      "execution_count": null,
      "id": "ee7de4de",
      "metadata": {},
      "outputs": [],
      "source": [
        "# Convert Income to an ordered categorical variable\n",
        "# This ensures Low < Medium < High in plots\n",
        "solar_data = solar_data.assign(\n",
        "    Income = pd.Categorical(\n",
        "        solar_data['Income'],\n",
        "        categories=['Low', 'Medium', 'High'],\n",
        "        ordered=True\n",
        "    )\n",
        ")"
      ]
    },
    {
      "cell_type": "code",
      "execution_count": null,
      "id": "4eb13edf",
      "metadata": {},
      "outputs": [],
      "source": [
        "# Verify the order is correct\n",
        "solar_data.Income.cat.categories"
      ]
    },
    {
      "cell_type": "code",
      "execution_count": null,
      "id": "83fb0907",
      "metadata": {},
      "outputs": [],
      "source": [
        "# Create a color palette (shades of blue)\n",
        "color_for_plot = sns.color_palette('Blues', n_colors=3)"
      ]
    },
    {
      "cell_type": "markdown",
      "id": "f3a0ac42",
      "metadata": {},
      "source": [
        "### Boxplot for Installers\n",
        "\n",
        "Let's create a professional boxplot showing profit distribution for customers who **did** install solar panels."
      ]
    },
    {
      "cell_type": "code",
      "execution_count": null,
      "id": "a2602f49",
      "metadata": {},
      "outputs": [],
      "source": [
        "# Create boxplot for installers only\n",
        "sns.boxplot(\n",
        "    y='Profit',\n",
        "    x='Income',\n",
        "    data=solar_data[solar_data['Install'] == 'Yes'],  # Filter to installers\n",
        "    palette=color_for_plot,  # Use our blue color scheme\n",
        "    hue='Income',            # Color by income level\n",
        "    fill=True,               # Fill the boxes\n",
        "    linewidth=0.75,          # Thin box borders\n",
        "    whis=(0, 100)            # Show full data range (no outliers)\n",
        ")\n",
        "\n",
        "# Add title and labels\n",
        "plt.title('Boxplot of Profits for Installers', fontsize=12)\n",
        "plt.xlabel('Income Group', fontsize=12)\n",
        "plt.ylabel('Profit ($)', fontsize=12)\n",
        "\n",
        "# Ensure nothing gets cut off\n",
        "plt.tight_layout()\n",
        "\n",
        "# Save the figure\n",
        "plt.savefig('../output/figures/boxplot-installers.png', dpi=300, bbox_inches='tight')\n",
        "\n",
        "# Display the plot\n",
        "plt.show()"
      ]
    },
    {
      "cell_type": "markdown",
      "id": "434ce2dc",
      "metadata": {},
      "source": [
        "**Interpreting the Boxplot:**\n",
        "\n",
        "- The **box** shows the middle 50% of data (25th to 75th percentile)\n",
        "- The **line** inside the box is the median (50th percentile)\n",
        "- The **whiskers** show the minimum and maximum values\n",
        "- Higher-income customers tend to generate more profit when they install solar panels!"
      ]
    },
    {
      "cell_type": "markdown",
      "id": "a4199709",
      "metadata": {},
      "source": [
        "### Boxplot for Non-Installers\n",
        "\n",
        "Now let's see the profit distribution for customers who did **not** install solar panels."
      ]
    },
    {
      "cell_type": "code",
      "execution_count": null,
      "id": "82491d9c",
      "metadata": {},
      "outputs": [],
      "source": [
        "# Create boxplot for non-installers\n",
        "sns.boxplot(\n",
        "    y='Profit',\n",
        "    x='Income',\n",
        "    data=solar_data[solar_data['Install'] == 'No'],  # Filter to non-installers\n",
        "    palette=color_for_plot,\n",
        "    hue='Income',\n",
        "    fill=True,\n",
        "    linewidth=0.75,\n",
        "    whis=(0, 100),\n",
        "    width=0.75\n",
        ")\n",
        "\n",
        "# Add title and labels\n",
        "plt.title('Boxplot of Profits for Non-Installers', fontsize=12)\n",
        "plt.xlabel('Income Group', fontsize=12)\n",
        "plt.ylabel('Profit ($)', fontsize=12)\n",
        "\n",
        "# Ensure nothing gets cut off\n",
        "plt.tight_layout()\n",
        "\n",
        "# Save the figure\n",
        "plt.savefig('../output/figures/boxplot-non-installers.png', dpi=300, bbox_inches='tight')\n",
        "\n",
        "# Display the plot\n",
        "plt.show()"
      ]
    },
    {
      "cell_type": "markdown",
      "id": "62d8c66d",
      "metadata": {},
      "source": [
        "**Key Insight:**\n",
        "\n",
        "Non-installers all show **negative profits** (losses) because the company spent money on bids but didn't make any sales. This highlights the importance of accurate customer targeting in the solar panel business!"
      ]
    },
    {
      "cell_type": "markdown",
      "metadata": {},
      "source": [
        "## Conclusion\n",
        "\n",
        "This concludes our introduction to Python for data analysis. In this notebook, you learned:\n",
        "\n",
        "✅ Python syntax and fundamental data types  \n",
        "✅ Numerical computing with NumPy arrays  \n",
        "✅ Data visualization using matplotlib and seaborn  \n",
        "✅ Loading and exploring real data with pandas\n",
        "\n",
        "### Continuing Your Learning\n",
        "\n",
        "To reinforce these skills:\n",
        "- **Experiment**: Modify the code examples and verify your results\n",
        "- **Explore**: Try different visualization types and parameters\n",
        "- **Read documentation**: Consulting official documentation is an essential programming skill\n",
        "\n",
        "These foundational tools will serve you throughout your studies in agricultural economics and agribusiness analytics. With consistent practice, you'll develop confidence in statistical programming and the ability to extract meaningful insights from complex datasets.\n",
        "\n",
        "---\n"
      ]
    }
  ],
  "metadata": {
    "kernelspec": {
      "display_name": "ds-base",
      "language": "python",
      "name": "python3"
    },
    "language_info": {
      "codemirror_mode": {
        "name": "ipython",
        "version": 3
      },
      "file_extension": ".py",
      "mimetype": "text/x-python",
      "name": "python",
      "nbconvert_exporter": "python",
      "pygments_lexer": "ipython3",
      "version": "3.12.11"
    }
  },
  "nbformat": 4,
  "nbformat_minor": 5
}
