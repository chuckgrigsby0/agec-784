{
  "cells": [
    {
      "cell_type": "markdown",
      "id": "fe75d5a8",
      "metadata": {},
      "source": [
        "# Introduction to Python for Agribusiness Students\n",
        "\n",
        "## Open in Google Colab\n",
        "\n",
        "You can run this notebook directly in your browser without installing any software! Click the badge below to open in Google Colab:\n",
        "\n",
        "[![Open In Colab](https://colab.research.google.com/assets/colab-badge.svg)](https://colab.research.google.com/github/chuckgrigsby0/agec-784/blob/main/scripts/intro_to_python.ipynb)\n",
        "\n",
        "---\n",
        "\n",
        "## What is Python?\n",
        "\n",
        "Python is a programming language widely used in data analysis, business analytics, and scientific computing. Think of it as a more powerful version of Excel that allows you to handle complex calculations, create publication-quality visualizations, and automate repetitive tasks.\n",
        "\n",
        "### What You'll Learn\n",
        "\n",
        "This notebook will introduce you to:\n",
        "- **Basic Python syntax** - Understanding how to write and run Python code\n",
        "- **Working with data** - Numbers, lists, and data tables\n",
        "- **Data analysis with pandas** - Loading, filtering, and analyzing real datasets\n",
        "- **Creating visualizations** - Professional charts and graphs\n",
        "- **Summary statistics** - Calculating means, medians, and other key metrics"
      ]
    },
    {
      "cell_type": "markdown",
      "id": "43fc5c2e",
      "metadata": {},
      "source": [
        "## 1. Your First Python Code\n",
        "\n",
        "The `print()` function displays text or results on the screen. It's one of the most basic and useful functions in Python."
      ]
    },
    {
      "cell_type": "code",
      "execution_count": null,
      "id": "646e62c8",
      "metadata": {},
      "outputs": [],
      "source": [
        "# Print a simple message\n",
        "my_name = 'your_name'\n",
        "print('Hello, my name is ' + my_name + '!')\n",
        "\n",
        "# You can also combine text using the + operator\n",
        "print(\"Hello\" + \" \" + \"World!\")"
      ]
    },
    {
      "cell_type": "markdown",
      "id": "8038ffaf",
      "metadata": {},
      "source": [
        "### Getting Help\n",
        "\n",
        "In Python, you can add a `?` after any function to see its documentation. This works in Jupyter notebooks and similar environments."
      ]
    },
    {
      "cell_type": "code",
      "execution_count": null,
      "id": "4020d1f0",
      "metadata": {},
      "outputs": [],
      "source": [
        "# Display help documentation for the print function\n",
        "print?"
      ]
    },
    {
      "cell_type": "markdown",
      "id": "dd479a60",
      "metadata": {},
      "source": [
        "## 2. Working with Lists\n",
        "\n",
        "A **list** is a collection of values, similar to a column or row in Excel. Lists are created using square brackets `[]` and can contain numbers, text, or a mix of both."
      ]
    },
    {
      "cell_type": "code",
      "execution_count": null,
      "id": "da96bb52",
      "metadata": {},
      "outputs": [],
      "source": [
        "# Create a list of numbers\n",
        "x = [1, 2, 3, 4, 5]\n",
        "print(\"List x:\", x)\n",
        "\n",
        "# Access the first element (Python starts counting at 0!)\n",
        "print(\"First element:\", x[0])\n",
        "\n",
        "# Create another list\n",
        "y = [9, 10, 11, 12, 13]\n",
        "print(\"First element of y:\", y[0])\n",
        "\n",
        "# When you add lists, Python combines them (concatenation)\n",
        "print(\"Combined list:\", x + y)"
      ]
    },
    {
      "cell_type": "markdown",
      "id": "df95b306",
      "metadata": {},
      "source": [
        "## 3. Introduction to NumPy Arrays\n",
        "\n",
        "**NumPy** is a Python library for numerical computing. NumPy arrays are similar to lists but designed specifically for mathematical operations. They allow element-by-element calculations, similar to how Excel formulas work across cells.\n",
        "\n",
        "Learn more at the [NumPy documentation](https://numpy.org/doc/stable/user/whatisnumpy.html)."
      ]
    },
    {
      "cell_type": "code",
      "execution_count": null,
      "id": "b980654b",
      "metadata": {},
      "outputs": [],
      "source": [
        "# Import the NumPy library (np is the standard alias)\n",
        "import numpy as np"
      ]
    },
    {
      "cell_type": "code",
      "execution_count": null,
      "id": "070e525a",
      "metadata": {},
      "outputs": [],
      "source": [
        "# Create NumPy arrays\n",
        "x = np.array([1, 2, 3, 4, 5])\n",
        "y = np.array([9, 10, 11, 12, 13])\n",
        "\n",
        "# Addition works element-by-element\n",
        "print(\"Element-wise addition:\")\n",
        "print(x + y)  # [1+9, 2+10, 3+11, 4+12, 5+13]"
      ]
    },
    {
      "cell_type": "markdown",
      "id": "d4ce4545",
      "metadata": {},
      "source": [
        "### Basic Array Operations\n",
        "\n",
        "NumPy provides many built-in functions for common calculations."
      ]
    },
    {
      "cell_type": "code",
      "execution_count": null,
      "id": "27fc3bf4",
      "metadata": {},
      "outputs": [],
      "source": [
        "# Create an array\n",
        "x = np.array([1, 2, 3, 4, 5])\n",
        "\n",
        "# Calculate sum (two equivalent ways)\n",
        "print(\"Sum (method syntax):\", x.sum())\n",
        "print(\"Sum (function syntax):\", np.sum(x), '\\n') # The '\\n' adds a blank line for readability\n",
        "\n",
        "# Calculate mean (average)\n",
        "print(\"Mean (method syntax):\", x.mean())\n",
        "print(\"Mean (function syntax):\", np.mean(x), '\\n')\n",
        "\n",
        "# Calculate minimum and maximum\n",
        "print(\"Minimum (method syntax):\", x.min())\n",
        "print(\"Minimum (function syntax):\", np.min(x), '\\n')\n",
        "\n",
        "print(\"Maximum (method syntax):\", x.max())\n",
        "print(\"Maximum (function syntax):\", np.max(x))"
      ]
    },
    {
      "cell_type": "code",
      "execution_count": null,
      "id": "37eec9e1",
      "metadata": {},
      "outputs": [],
      "source": [
        "# More mathematical operations\n",
        "x = np.array([4, 9, 16, 25, 36, 49])\n",
        "\n",
        "print(\"Square root:\", np.sqrt(x))\n",
        "\n",
        "x = np.sqrt(x)\n",
        "print(\"Square each element:\", x**2)"
      ]
    },
    {
      "cell_type": "markdown",
      "id": "8d7dcaab",
      "metadata": {},
      "source": [
        "## 4. Working with Real Data\n",
        "\n",
        "We will now learn how to load data and conduct exploratory analyses. We'll use the **pandas** package, a powerful library designed for working with tabular data, including spreadsheets and CSV files.\n",
        "\n",
        "Pandas is an essential tool for data analyses in Python."
      ]
    },
    {
      "cell_type": "markdown",
      "id": "28ccbea8",
      "metadata": {},
      "source": [
        "### Loading Data\n",
        "\n",
        "First, we need to import pandas and load our dataset."
      ]
    },
    {
      "cell_type": "code",
      "execution_count": null,
      "id": "d9215552",
      "metadata": {},
      "outputs": [],
      "source": [
        "\n",
        "# Import pandas (pd is the standard alias)\n",
        "import pandas as pd\n",
        "\n",
        "# Base URL for raw GitHub content\n",
        "base_url = \"https://raw.githubusercontent.com/chuckgrigsby0/agec-784/main/data/\"\n",
        "\n",
        "# Load solar directly from GitHub URL\n",
        "solar_data = pd.read_csv(base_url + 'solar-data.csv')\n",
        "\n",
        "print(\"Data loaded successfully!\")\n",
        "print(f\"Shape: {solar_data.shape}\")"
      ]
    },
    {
      "cell_type": "markdown",
      "id": "d2dabc9d",
      "metadata": {},
      "source": [
        "### Exploring the Dataset\n",
        "\n",
        "Let's take a first look at our solar panel installation dataset. This dataset contains information on household solar panel installation, demographics, cost, revenue, and profitability."
      ]
    },
    {
      "cell_type": "code",
      "execution_count": null,
      "id": "8467a89a",
      "metadata": {},
      "outputs": [],
      "source": [
        "# Display the first 5 rows\n",
        "solar_data.head()"
      ]
    },
    {
      "cell_type": "markdown",
      "id": "bee53ae7",
      "metadata": {},
      "source": [
        "**Column Definitions:**\n",
        "\n",
        "| Variable     | Description                                    |\n",
        "|--------------|------------------------------------------------|\n",
        "| Household    | Household number                               |\n",
        "| Income       | Household income ($thousands/year)             |\n",
        "| PSH          | Peak sun hours                                 |\n",
        "| Install?     | Did the customer install solar? (Yes/No)       |\n",
        "| Bid          | Bid cost ($thousands)                          |\n",
        "| Installation | Installation cost ($thousands)                 |\n",
        "| Revenue      | Revenue from installation ($thousands)         |\n",
        "| Profit       | Net profit ($thousands)                        |"
      ]
    },
    {
      "cell_type": "markdown",
      "id": "ac25163c",
      "metadata": {},
      "source": [
        "We can get the dimensions of the data (number of rows and columns) by calling the `shape` attribute."
      ]
    },
    {
      "cell_type": "code",
      "execution_count": null,
      "id": "43d446a4",
      "metadata": {},
      "outputs": [],
      "source": [
        "print(\"Dataset rows and columns:\", solar_data.shape)\n",
        "\n",
        "print(f\"This dataset has {solar_data.shape[0]} households and {solar_data.shape[1]} variables.\")"
      ]
    },
    {
      "cell_type": "markdown",
      "id": "eaad8808",
      "metadata": {},
      "source": [
        "We can get the column names by accessing the `columns` attribute. The `tolist()` method converts the output to a list."
      ]
    },
    {
      "cell_type": "code",
      "execution_count": null,
      "id": "9194a68b",
      "metadata": {},
      "outputs": [],
      "source": [
        "print(\"Column names:\")\n",
        "print(solar_data.columns.tolist())"
      ]
    },
    {
      "cell_type": "markdown",
      "id": "4842cbd9",
      "metadata": {},
      "source": [
        "### Checking Data Quality\n",
        "\n",
        "Before analyzing data, it's important to check for missing values or data quality issues."
      ]
    },
    {
      "cell_type": "code",
      "execution_count": null,
      "id": "3f16fdce",
      "metadata": {},
      "outputs": [],
      "source": [
        "# Count missing values in each column\n",
        "print(\"Missing values per column:\")\n",
        "print(solar_data.isna().sum())\n",
        "\n",
        "# If we had missing values, we could remove them with:\n",
        "# solar_data = solar_data.dropna()"
      ]
    },
    {
      "cell_type": "markdown",
      "id": "04e1242e",
      "metadata": {},
      "source": [
        "### Renaming Columns\n",
        "\n",
        "Column names containing special characters (such as `?`) can cause issues when accessing or filtering data, so we'll rename the `Install?` column to `Install`."
      ]
    },
    {
      "cell_type": "code",
      "execution_count": null,
      "id": "8f19e846",
      "metadata": {},
      "outputs": [],
      "source": [
        "# Rename 'Install?' to 'Install'\n",
        "solar_data = solar_data.rename(columns={'Install?': 'Install'})\n",
        "\n",
        "# Verify the change\n",
        "print(\"Updated column names:\")\n",
        "print(solar_data.columns.tolist())"
      ]
    },
    {
      "cell_type": "markdown",
      "id": "d4926c23",
      "metadata": {},
      "source": [
        "## 5. Selecting and Filtering Data\n",
        "\n",
        "One of the most important skills in data analysis is selecting subsets of your data."
      ]
    },
    {
      "cell_type": "markdown",
      "id": "16b0f502",
      "metadata": {},
      "source": [
        "### Selecting Rows by Position\n",
        "\n",
        "You can select rows using bracket notation with slice syntax `[start:end]`. Python employs zero-based indexing where the first row has index 0. Slices are inclusive of the start index and exclusive of the end index. Therefore, `[0:5]` returns rows at indices 0, 1, 2, 3, and 4 (five rows total)."
      ]
    },
    {
      "cell_type": "code",
      "execution_count": null,
      "id": "d466be38",
      "metadata": {},
      "outputs": [],
      "source": [
        "# Select the first 5 rows\n",
        "print(\"First 5 rows:\")\n",
        "print(solar_data[0:5])"
      ]
    },
    {
      "cell_type": "code",
      "execution_count": null,
      "id": "7678b21a",
      "metadata": {},
      "outputs": [],
      "source": [
        "# Select rows 6-10 (indices 5-9)\n",
        "print(\"Rows 6-10:\")\n",
        "print(solar_data[5:10])"
      ]
    },
    {
      "cell_type": "markdown",
      "id": "7e34ae42",
      "metadata": {},
      "source": [
        "### Selecting Specific Columns\n",
        "\n",
        "You can create a new DataFrame with only the columns you need by passing a list of column names."
      ]
    },
    {
      "cell_type": "code",
      "execution_count": null,
      "id": "5462bbe7",
      "metadata": {},
      "outputs": [],
      "source": [
        "# Select only Income, Install, and Profit columns\n",
        "solar_data_select = solar_data[['Income', 'Install', 'Profit']]\n",
        "solar_data_select.head()"
      ]
    },
    {
      "cell_type": "markdown",
      "id": "db84f5c4",
      "metadata": {},
      "source": [
        "### Filtering Based on Conditions\n",
        "\n",
        "Boolean filtering lets you select rows that meet specific criteria. This is like using Excel's AutoFilter feature."
      ]
    },
    {
      "cell_type": "code",
      "execution_count": null,
      "id": "33a130b4",
      "metadata": {},
      "outputs": [],
      "source": [
        "# Show unique Install categories\n",
        "print(\"Unique Install categories:\")\n",
        "solar_data['Install'].unique()"
      ]
    },
    {
      "cell_type": "code",
      "execution_count": null,
      "id": "2e30d613",
      "metadata": {},
      "outputs": [],
      "source": [
        "# Filter to only customers who installed solar\n",
        "solar_data_install = solar_data[solar_data['Install'] == 'Yes']\n",
        "\n",
        "solar_data_install['Install'].unique().tolist()"
      ]
    },
    {
      "cell_type": "code",
      "execution_count": null,
      "id": "7c5632cd",
      "metadata": {},
      "outputs": [],
      "source": [
        "print(solar_data_install.head())  # Display the first 5 rows. "
      ]
    },
    {
      "cell_type": "markdown",
      "id": "262e7ec5",
      "metadata": {},
      "source": [
        "Alternatively, we can filter the DataFrame using the `.query()` method, which allows us to write boolean conditions as strings. For example, we can filter for households that installed solar panels."
      ]
    },
    {
      "cell_type": "code",
      "execution_count": null,
      "id": "34523c74",
      "metadata": {},
      "outputs": [],
      "source": [
        "solar_data_install = solar_data.query(\"Install == 'Yes'\")\n",
        "solar_data_install.head()"
      ]
    },
    {
      "cell_type": "markdown",
      "id": "c0fc8cfa",
      "metadata": {},
      "source": [
        "### Advanced Selection with `.iloc[]` and `.loc[]`\n",
        "\n",
        "Pandas provides two methods for selecting specific rows and columns:\n",
        "\n",
        "- **`.iloc[]`**: Select by integer position (like row row/column number 0, 1, 2...)\n",
        "- **`.loc[]`**: Select by labels (like column names) or boolean conditions\n",
        "\n",
        "**Tip:** For most tasks, you'll use `.loc[]` more often since it works with column names.\n",
        "\n",
        "You can learn more about the differences [here](https://www.datacamp.com/tutorial/loc-vs-iloc). "
      ]
    },
    {
      "cell_type": "markdown",
      "id": "472a504d",
      "metadata": {},
      "source": [
        "### Examples with `.loc[]`"
      ]
    },
    {
      "cell_type": "code",
      "execution_count": null,
      "id": "73ef421b",
      "metadata": {},
      "outputs": [],
      "source": [
        "# Select specific rows by position (1st, 4th, and 6th rows)\n",
        "solar_data.iloc[[0, 3, 5]]"
      ]
    },
    {
      "cell_type": "code",
      "execution_count": null,
      "id": "f45d4a08",
      "metadata": {},
      "outputs": [],
      "source": [
        "# Select specific rows AND columns by position\n",
        "# Rows: 1st, 4th, 6th | Columns: 1st, 2nd, 3rd\n",
        "solar_data.iloc[[0, 3, 5], [0, 1, 2]]"
      ]
    },
    {
      "cell_type": "markdown",
      "id": "636cc7f2",
      "metadata": {},
      "source": [
        "### Examples with `.loc[]`"
      ]
    },
    {
      "cell_type": "code",
      "execution_count": null,
      "id": "c65ea627",
      "metadata": {},
      "outputs": [],
      "source": [
        "# Select rows 1-5 (by position 0-4) and specific columns by name\n",
        "solar_data.loc[0:4, ['Household', 'Income', 'Install', 'Profit']]"
      ]
    },
    {
      "cell_type": "markdown",
      "id": "88b57067",
      "metadata": {},
      "source": [
        "We can also use `.loc[]` with custom index. For example, we specify `Household` as the index variable and subset the first five households, while selecting `Income`, `Install`, and `Profit`."
      ]
    },
    {
      "cell_type": "code",
      "execution_count": null,
      "id": "be6589f4",
      "metadata": {},
      "outputs": [],
      "source": [
        "# Set Household as the index (replaces 0, 1, 2, 3... with household numbers)\n",
        "solar_data_w_index = solar_data.set_index('Household')\n",
        "\n",
        "# Select households 1-5 and specific columns\n",
        "solar_data_w_index.loc[1:5, ['Income', 'Install', 'Profit']]"
      ]
    },
    {
      "cell_type": "markdown",
      "id": "19b1099a",
      "metadata": {},
      "source": [
        "In the first example, we subset the dataset by the row position, while in the second example, we subset by household IDs 1-5. "
      ]
    },
    {
      "cell_type": "code",
      "execution_count": null,
      "id": "4e614506",
      "metadata": {},
      "outputs": [],
      "source": [
        "solar_data.iloc[-5:, :].head()"
      ]
    },
    {
      "cell_type": "markdown",
      "id": "07553830",
      "metadata": {},
      "source": [
        "## 6. Summary Statistics and Data Analysis\n",
        "\n",
        "We can quickly generate summary statistics for our DataFrame using the `describe()` method."
      ]
    },
    {
      "cell_type": "markdown",
      "id": "02590d27",
      "metadata": {},
      "source": [
        "### The `.describe()` Method\n",
        "\n",
        "The `.describe()` method provides summary statistics for numerical columns, including count, mean, standard deviation, min, max, and quartiles (25th, 50th, 75th percentiles). We can chain the `.round()` method to format the output to two decimal places."
      ]
    },
    {
      "cell_type": "code",
      "execution_count": null,
      "id": "9928d839",
      "metadata": {},
      "outputs": [],
      "source": [
        "# Get summary statistics for all numerical columns\n",
        "solar_data.describe().round(2)"
      ]
    },
    {
      "cell_type": "code",
      "execution_count": null,
      "id": "8f496c70",
      "metadata": {},
      "outputs": [],
      "source": [
        "# For categorical/text columns, we can use `include='all'`\n",
        "solar_data['Install'].describe(include='all')"
      ]
    },
    {
      "cell_type": "markdown",
      "id": "a417ae43",
      "metadata": {},
      "source": [
        "### Analyzing Specific Groups\n",
        "\n",
        "We can apply what we have learned on filtering data to analyze profit differences between customers who installed solar panels and those who didn't."
      ]
    },
    {
      "cell_type": "code",
      "execution_count": null,
      "id": "d144ef12",
      "metadata": {},
      "outputs": [],
      "source": [
        "# Filter to customers with positive or zero profit\n",
        "solar_data_positive_profit = solar_data[solar_data['Profit'] >= 0]\n",
        "\n",
        "print(\"Customers with positive profit:\")\n",
        "solar_data_positive_profit['Profit'].describe().round(2)"
      ]
    },
    {
      "cell_type": "code",
      "execution_count": null,
      "id": "49345d87",
      "metadata": {},
      "outputs": [],
      "source": [
        "# Filter to customers with negative profit\n",
        "solar_data_negative_profit = solar_data[solar_data['Profit'] < 0]\n",
        "\n",
        "print(\"Customers with negative profit:\")\n",
        "solar_data_negative_profit['Profit'].describe().round(2)"
      ]
    },
    {
      "cell_type": "markdown",
      "id": "260057a6",
      "metadata": {},
      "source": [
        "A more advanced approach would use `pandas` `groupby()` method. To demonstrate, we group by the `Install` variable, then compute the mean and standard deviation of `Profit`. "
      ]
    },
    {
      "cell_type": "code",
      "execution_count": null,
      "id": "c7d829a6",
      "metadata": {},
      "outputs": [],
      "source": [
        "sum_stats_grouped = ( \n",
        "    solar_data.groupby('Install')[['Profit']]\n",
        "    .agg(['mean', 'std'])\n",
        "    .round(2)\n",
        "    .rename(columns={'mean': 'Mean', 'std': 'SD'})\n",
        ")\n",
        "\n",
        "sum_stats_grouped"
      ]
    },
    {
      "cell_type": "markdown",
      "id": "78b3af55",
      "metadata": {},
      "source": [
        "### Combining Multiple Conditions\n",
        "\n",
        "You can combine multiple filtering conditions using:\n",
        "- **`&`** for AND (both conditions must be true)\n",
        "- **`|`** for OR (at least one condition must be true)\n",
        "\n",
        "**Important:** When combining conditions, wrap each condition in parentheses."
      ]
    },
    {
      "cell_type": "markdown",
      "id": "6a53ac7d",
      "metadata": {},
      "source": [
        "For example, we can subset households whose income is at or above the median AND who installed solar panels. Note there are typically multiple ways to achieve the same result in programming, as shown in the alternative approach."
      ]
    },
    {
      "cell_type": "code",
      "execution_count": null,
      "id": "da3570d0",
      "metadata": {},
      "outputs": [],
      "source": [
        "# Using boolean indexing\n",
        "solar_data_above_median = solar_data[(solar_data['Income'] => solar_data['Income'].median()) & (solar_data['Install'] == 'Yes')]\n",
        "solar_data_above_median.head()\n",
        "\n",
        "# Alternative approach using .query() with multiple conditions\n",
        "# solar_data.query(\"Income > @solar_data['Income'].median() & Install == 'Yes'\").head()"
      ]
    },
    {
      "cell_type": "code",
      "execution_count": null,
      "id": "080b4c64",
      "metadata": {},
      "outputs": [],
      "source": [
        "print(\"Summary statistics on profit for households installing solar and income above the median:\")\n",
        "solar_data_above_median['Profit'].describe().round(2)"
      ]
    },
    {
      "cell_type": "markdown",
      "id": "64037675",
      "metadata": {},
      "source": [
        "We can do the same for households with below-median income who installed solar panels."
      ]
    },
    {
      "cell_type": "code",
      "execution_count": null,
      "id": "2b772aad",
      "metadata": {},
      "outputs": [],
      "source": [
        "# Using boolean indexing\n",
        "solar_data_below_median = solar_data[(solar_data['Income'] < solar_data['Income'].median()) & (solar_data['Install'] == 'Yes')]\n",
        "solar_data_below_median['Profit'].describe().round(2)\n"
      ]
    },
    {
      "cell_type": "markdown",
      "id": "53a91388",
      "metadata": {},
      "source": [
        "### Counting Values\n",
        "\n",
        "Use `.value_counts()` to count how many times each value appears in a column. This is particularly useful for variables with multiple categories. "
      ]
    },
    {
      "cell_type": "code",
      "execution_count": null,
      "id": "d067f89b",
      "metadata": {},
      "outputs": [],
      "source": [
        "# Count how many customers installed vs. didn't install\n",
        "print(\"Installation counts:\")\n",
        "print(solar_data['Install'].value_counts())"
      ]
    },
    {
      "cell_type": "markdown",
      "id": "e69436c6",
      "metadata": {},
      "source": [
        "## 7. Data Visualization\n",
        "\n",
        "In addition to data analysis, visualizations help us understand patterns and communicate results effectively. We'll use **seaborn**, a Python visualization library built on matplotlib."
      ]
    },
    {
      "cell_type": "code",
      "execution_count": null,
      "id": "d0ee89c1",
      "metadata": {},
      "outputs": [],
      "source": [
        "# Import visualization libraries\n",
        "import seaborn as sns\n",
        "import matplotlib.pyplot as plt\n",
        "\n",
        "# Set the default style for better-looking plots\n",
        "sns.set_style('whitegrid')"
      ]
    },
    {
      "cell_type": "markdown",
      "id": "98bfcaa5",
      "metadata": {},
      "source": [
        "We will first create a new binned income variable based on quartiles. "
      ]
    },
    {
      "cell_type": "code",
      "execution_count": null,
      "id": "b3958eed",
      "metadata": {},
      "outputs": [],
      "source": [
        "# Create income bins based on quantiles\n",
        "solar_data['Income_Binned'] = pd.qcut(\n",
        "    solar_data['Income'],\n",
        "    q=[0, 0.25, 0.75, 1.0],  # Quantile breaks\n",
        "    labels=['Low', 'Medium', 'High']\n",
        ")\n",
        "\n",
        "print(solar_data['Income_Binned'].value_counts())"
      ]
    },
    {
      "cell_type": "markdown",
      "id": "d6c4166b",
      "metadata": {},
      "source": [
        "### Creating a Simple Boxplot\n",
        "\n",
        "A **boxplot** shows the distribution of data across different categories. It displays the median, quartiles, and potential outliers."
      ]
    },
    {
      "cell_type": "code",
      "execution_count": null,
      "id": "ef642d86",
      "metadata": {},
      "outputs": [],
      "source": [
        "# Create a simple boxplot showing profit by income level\n",
        "plt.figure(figsize=(8, 6))\n",
        "sns.boxplot(x='Income_Binned', y='Profit', data=solar_data)\n",
        "plt.xlabel('Binned Income')\n",
        "plt.title('Profit Distribution by Income Level')\n",
        "plt.show()"
      ]
    },
    {
      "cell_type": "markdown",
      "id": "9bd7db38",
      "metadata": {},
      "source": [
        "### Improving Visualizations\n",
        "\n",
        "We enhance our plots by:\n",
        "1. Ordering categories logically. Note that they are already ordered in this case, but we will re-order for demonstration purposes. \n",
        "1. Using professional color schemes\n",
        "2. Adding clear labels and titles"
      ]
    },
    {
      "cell_type": "code",
      "execution_count": null,
      "id": "dc2030e8",
      "metadata": {},
      "outputs": [],
      "source": [
        "# Convert Income to an ordered categorical variable\n",
        "# This ensures Low < Medium < High in plots\n",
        "solar_data['Income_Binned'] = pd.Categorical(\n",
        "    solar_data['Income_Binned'],\n",
        "    categories=['Low', 'Medium', 'High'],\n",
        "    ordered=True\n",
        ")\n",
        "\n",
        "# Verify the order\n",
        "print(\"Income categories (ordered):\")\n",
        "print(solar_data['Income_Binned'].cat.categories)"
      ]
    },
    {
      "cell_type": "markdown",
      "id": "70ddfa2c",
      "metadata": {},
      "source": [
        "There are a plethora of ways to customize figure aesthetics. Below, we set the color palette to `Blues` with three distinct colors. The `seaborn` [documentation](https://seaborn.pydata.org/tutorial/color_palettes.html) contains many useful examples. "
      ]
    },
    {
      "cell_type": "code",
      "execution_count": null,
      "id": "b06ff3c2",
      "metadata": {},
      "outputs": [],
      "source": [
        "color_palette = sns.color_palette(palette='Blues', n_colors=3) # We will insert this palette into our boxplot"
      ]
    },
    {
      "cell_type": "markdown",
      "id": "fb24274a",
      "metadata": {},
      "source": [
        "### Boxplot for Installers\n",
        "\n",
        "Let's create a professional boxplot showing profit distribution for customers who **installed** solar panels."
      ]
    },
    {
      "cell_type": "code",
      "execution_count": null,
      "id": "24ad7d41",
      "metadata": {},
      "outputs": [],
      "source": [
        "# Filter to installers only\n",
        "installers = solar_data[solar_data['Install'] == 'Yes']\n",
        "\n",
        "# Create the boxplot\n",
        "plt.figure(figsize=(8, 6))\n",
        "sns.boxplot(\n",
        "    x='Income_Binned',\n",
        "    y='Profit',\n",
        "    data=installers,\n",
        "    palette=color_palette,\n",
        "    hue='Income_Binned',\n",
        "    legend=False\n",
        ")\n",
        "\n",
        "# Add labels and title\n",
        "plt.title('Profits by Income Level for Solar Panel Installers', fontsize=14, fontweight='bold')\n",
        "plt.xlabel('Income Level', fontsize=12)\n",
        "plt.ylabel('Profit ($1000s)', fontsize=12)\n",
        "plt.tight_layout()"
      ]
    },
    {
      "cell_type": "markdown",
      "id": "0206336d",
      "metadata": {},
      "source": [
        "**Interpreting the Boxplot:**\n",
        "\n",
        "- The **box** shows the middle 50% of the data (from the 25th to 75th percentile)\n",
        "- The **line inside the box** is the median (50th percentile)\n",
        "- The **whiskers** extend to show the range of the data\n",
        "- **Dots** (if any) represent outliers\n",
        "\n",
        "The figure suggests that higher-income households tend to generate more profit when they install solar panels. "
      ]
    },
    {
      "cell_type": "markdown",
      "id": "d2f40bda",
      "metadata": {},
      "source": [
        "### Boxplot for Non-Installers\n",
        "\n",
        "Now let's see the profit distribution for customers who did **not** install solar panels.\n",
        "\n",
        "**Saving Figures**\n",
        "\n",
        "You can save your visualizations as image files for use in reports or presentations. See the last commented code. "
      ]
    },
    {
      "cell_type": "code",
      "execution_count": null,
      "id": "1cf08267",
      "metadata": {},
      "outputs": [],
      "source": [
        "# Filter to non-installers\n",
        "non_installers = solar_data[solar_data['Install'] == 'No']\n",
        "\n",
        "# Create the boxplot\n",
        "plt.figure(figsize=(8, 6))\n",
        "sns.boxplot(\n",
        "    x='Income_Binned',\n",
        "    y='Profit',\n",
        "    data=non_installers,\n",
        "    palette=color_palette,\n",
        "    hue='Income_Binned',\n",
        "    legend=False\n",
        ")\n",
        "\n",
        "# Add labels and title\n",
        "plt.title('Profits by Income Level for Non-Installers', fontsize=14, fontweight='bold')\n",
        "plt.xlabel('Income Level', fontsize=12)\n",
        "plt.ylabel('Profit ($1000s)', fontsize=12)\n",
        "\n",
        "plt.tight_layout()\n",
        "\n",
        "# ---------------------------------------- #\n",
        "# Example: Save the most recent plot\n",
        "# Uncomment the lines below to save\n",
        "# ---------------------------------------- #\n",
        "# For Google Colab (save and download):\n",
        "# plt.savefig('profit-by-income-installers.png', dpi=300, bbox_inches='tight')\n",
        "# from google.colab import files\n",
        "# files.download('profit-by-income-installers.png')\n",
        "# ---------------------------------------- #\n",
        "# For local save:\n",
        "# plt.savefig('../output/figures/profit-by-income-non-installers.png', dpi=400) # You may need to change the directory\n",
        "# ---------------------------------------- #"
      ]
    },
    {
      "cell_type": "markdown",
      "id": "17dcb068",
      "metadata": {},
      "source": [
        "As expected, households opting not to install solar produced negative profits, as the company incurred costs on bids but didn't generate any revenue. "
      ]
    },
    {
      "cell_type": "markdown",
      "id": "7224e842",
      "metadata": {},
      "source": [
        "## 8. Practice Exercises\n",
        "\n",
        "Try these exercises to reinforce what you've learned:\n",
        "\n",
        "### Exercise 1: Basic Filtering\n",
        "Filter the dataset to show only **Medium** income households. How many are there? What's the average profit for this group?\n",
        "\n",
        "### Exercise 2: Multiple Conditions\n",
        "Find all households who:\n",
        "- Installed solar panels (Install == 'Yes'), AND\n",
        "- Have PSH (peak sun hours) above the median\n",
        "\n",
        "How many customers meet all three criteria?\n",
        "\n",
        "### Exercise 3: Visualization\n",
        "Create a boxplot comparing Profit for customers who installed vs. those who didn't (use the 'Install' column on the x-axis).\n",
        "\n",
        "### Exercise 4: Summary Statistics\n",
        "Calculate the mean, median, and standard deviation of Revenue for:\n",
        "- All installers\n",
        "- Only high-income installers\n",
        "\n",
        "How do they compare?\n",
        "\n",
        "**Hint:** Use code cells below to work on these exercises!"
      ]
    },
    {
      "cell_type": "code",
      "execution_count": null,
      "id": "18336f48",
      "metadata": {},
      "outputs": [],
      "source": [
        "# Your code for Exercise 1 here\n"
      ]
    },
    {
      "cell_type": "code",
      "execution_count": null,
      "id": "214e694c",
      "metadata": {},
      "outputs": [],
      "source": [
        "# Your code for Exercise 2 here\n"
      ]
    },
    {
      "cell_type": "code",
      "execution_count": null,
      "id": "620319e0",
      "metadata": {},
      "outputs": [],
      "source": [
        "# Your code for Exercise 3 here\n"
      ]
    },
    {
      "cell_type": "code",
      "execution_count": null,
      "id": "c627a2f1",
      "metadata": {},
      "outputs": [],
      "source": [
        "# Your code for Exercise 4 here\n"
      ]
    },
    {
      "cell_type": "markdown",
      "id": "53611d77",
      "metadata": {},
      "source": [
        "---\n",
        "\n",
        "## Conclusion\n",
        "\n",
        "This completes the introduction to Python for data analysis. \n",
        "\n",
        "### Review of Concepts\n",
        "\n",
        "✅ **Python basics** - Print statements, lists, and basic syntax  \n",
        "✅ **NumPy fundamentals** - Arrays and mathematical operations  \n",
        "✅ **Pandas for data analysis** - Loading, filtering, and analyzing datasets  \n",
        "✅ **Data visualization** - Creating professional charts with seaborn  \n",
        "✅ **Statistical analysis** - Summary statistics and group comparisons  \n",
        "\n",
        "### Next Steps\n",
        "\n",
        "To continue building your Python skills:\n",
        "\n",
        "1. **Practice regularly** - The best way to learn programming is by doing\n",
        "2. **Experiment** - Modify the examples in this notebook and see what happens\n",
        "3. **Explore documentation** - Get comfortable reading official docs:\n",
        "   - [Pandas documentation](https://pandas.pydata.org/docs/)\n",
        "   - [Seaborn gallery](https://seaborn.pydata.org/examples/index.html)\n",
        "   - [NumPy documentation](https://numpy.org/doc/)\n",
        "4. **Apply to your own data** - Try loading and analyzing datasets related to your interests\n",
        "\n",
        "These foundational skills will serve you throughout your studies and career in agricultural economics and agribusiness. With practice, you'll develop the confidence to tackle increasingly complex data analysis challenges."
      ]
    },
    {
      "cell_type": "markdown",
      "id": "e0f00aa0",
      "metadata": {},
      "source": [
        "---\n",
        "\n",
        "# Advanced Topics (Optional)\n",
        "\n",
        "The sections below cover more advanced NumPy and Python concepts. These are optional and can be explored as you become more comfortable with Python.\n",
        "\n",
        "Feel free to return to these topics later when you need them!\n",
        "\n",
        "**Disclaimer:** These examples are adapted from *An Introduction to Statistical Learning with Applications in Python* (James, G., Witten, D., Hastie, T., Tibshirani, R., & Taylor, J.). \n",
        "\n",
        "---\n"
      ]
    },
    {
      "cell_type": "markdown",
      "id": "8da7f9e7",
      "metadata": {},
      "source": [
        "## Advanced: 2D Arrays and Matrices\n",
        "\n",
        "NumPy can work with multi-dimensional arrays (matrices), which are useful for certain types of analysis."
      ]
    },
    {
      "cell_type": "code",
      "execution_count": null,
      "id": "0f57064a",
      "metadata": {},
      "outputs": [],
      "source": [
        "# Create a 2x2 matrix (2 rows, 2 columns)\n",
        "x = np.array([[1, 2], [3, 4]])\n",
        "print(\"Matrix:\")\n",
        "print(x)"
      ]
    },
    {
      "cell_type": "code",
      "execution_count": null,
      "id": "3d70a2f0",
      "metadata": {},
      "outputs": [],
      "source": [
        "# Access elements using [row, column]\n",
        "print(\"First row:\", x[0])\n",
        "print(\"Second row:\", x[1])\n",
        "print(\"Element at row 1, column 1:\", x[1, 1])"
      ]
    },
    {
      "cell_type": "code",
      "execution_count": null,
      "id": "123dbd82",
      "metadata": {},
      "outputs": [],
      "source": [
        "# Get information about the array\n",
        "print(\"Shape (rows, columns):\", x.shape)\n",
        "print(\"Number of dimensions:\", x.ndim)\n",
        "print(\"Data type:\", x.dtype)"
      ]
    },
    {
      "cell_type": "markdown",
      "id": "223b2b44",
      "metadata": {},
      "source": [
        "## Advanced: Reshaping Arrays\n",
        "\n",
        "You can change the shape of arrays, similar to transposing data in Excel."
      ]
    },
    {
      "cell_type": "code",
      "execution_count": null,
      "id": "2a63e860",
      "metadata": {},
      "outputs": [],
      "source": [
        "# Create a 1D array with 6 elements\n",
        "x = np.array([10, 20, 30, 40, 50, 60])\n",
        "print('Original array:', x)\n",
        "\n",
        "# Reshape it into a 2x3 matrix (2 rows, 3 columns)\n",
        "x_reshape = x.reshape((2, 3))\n",
        "print('Reshaped matrix:')\n",
        "print(x_reshape)"
      ]
    },
    {
      "cell_type": "markdown",
      "id": "3598b776",
      "metadata": {},
      "source": [
        "**Note:** By default, `.reshape()` creates a **view**, not a copy. Changes to the reshaped array affect the original!"
      ]
    },
    {
      "cell_type": "code",
      "execution_count": null,
      "id": "9ae2315f",
      "metadata": {},
      "outputs": [],
      "source": [
        "# Demonstrate the view behavior\n",
        "x = np.array([10, 20, 30, 40, 50, 60])\n",
        "x_reshape = x.reshape((2, 3))\n",
        "\n",
        "print('Before change:')\n",
        "print('Original:', x)\n",
        "\n",
        "# Change a value in the reshaped array\n",
        "x_reshape[0, 2] = 100\n",
        "\n",
        "print('\\nAfter changing reshaped array:')\n",
        "print('Reshaped:', x_reshape)\n",
        "print('Original:', x)  # Original is also affected."
      ]
    },
    {
      "cell_type": "code",
      "execution_count": null,
      "id": "1c00a9e5",
      "metadata": {},
      "outputs": [],
      "source": [
        "# To avoid this, use .copy()\n",
        "x = np.array([10, 20, 30, 40, 50, 60])\n",
        "x_reshape = x.reshape((2, 3)).copy()  # Create an independent copy\n",
        "\n",
        "x_reshape[0, 2] = 100\n",
        "\n",
        "print('Reshaped (modified):', x_reshape[0])\n",
        "print('Original (unchanged):', x[:3])"
      ]
    },
    {
      "cell_type": "markdown",
      "id": "df3a7492",
      "metadata": {},
      "source": [
        "## Advanced: Random Number Generation\n",
        "\n",
        "Random numbers are useful for simulations and statistical modeling."
      ]
    },
    {
      "cell_type": "code",
      "execution_count": null,
      "id": "109c4dba",
      "metadata": {},
      "outputs": [],
      "source": [
        "# Generate random numbers from a normal distribution\n",
        "# Parameters: loc=mean, scale=standard deviation, size=how many\n",
        "random_values = np.random.normal(loc=0, scale=1, size=10)\n",
        "print(\"10 random values (mean=0, std=1):\")\n",
        "print(random_values)"
      ]
    },
    {
      "cell_type": "markdown",
      "id": "7fe5b275",
      "metadata": {},
      "source": [
        "### Setting a Random Seed\n",
        "\n",
        "For reproducible results (same random numbers every time), use a random number generator with a seed."
      ]
    },
    {
      "cell_type": "code",
      "execution_count": null,
      "id": "6ad9856a",
      "metadata": {},
      "outputs": [],
      "source": [
        "# Create a random number generator with a specific seed\n",
        "rng = np.random.default_rng(865)\n",
        "print(\"First run:\")\n",
        "print(rng.normal(loc=10, scale=2, size=5))\n",
        "\n",
        "# Reset with same seed - same results!\n",
        "rng = np.random.default_rng(865)\n",
        "print(\"\\nSecond run (same seed):\")\n",
        "print(rng.normal(loc=10, scale=2, size=5))"
      ]
    },
    {
      "cell_type": "markdown",
      "id": "ee9574f4",
      "metadata": {},
      "source": [
        "## Advanced: Array Slicing and Indexing\n",
        "\n",
        "NumPy provides powerful tools for selecting subsets of arrays."
      ]
    },
    {
      "cell_type": "code",
      "execution_count": null,
      "id": "befced3c",
      "metadata": {},
      "outputs": [],
      "source": [
        "# Create a sequence\n",
        "# np.arange(start, stop) - note that stop is NOT included\n",
        "sequence = np.arange(1, 11)  # 1 through 10\n",
        "print(\"Sequence:\", sequence)"
      ]
    },
    {
      "cell_type": "code",
      "execution_count": null,
      "id": "f6af9f4c",
      "metadata": {},
      "outputs": [],
      "source": [
        "# Create a 2D array for indexing examples\n",
        "A = np.arange(1, 21).reshape((4, 5))\n",
        "print(\"Matrix A:\")\n",
        "print(A)"
      ]
    },
    {
      "cell_type": "code",
      "execution_count": null,
      "id": "ee57d08e",
      "metadata": {},
      "outputs": [],
      "source": [
        "# Select specific rows\n",
        "print(\"Rows 3 and 4:\")\n",
        "print(A[[2, 3]])"
      ]
    },
    {
      "cell_type": "code",
      "execution_count": null,
      "id": "9d576822",
      "metadata": {},
      "outputs": [],
      "source": [
        "# Select specific columns (: means \"all rows\")\n",
        "print(\"All rows, columns 1 and 2:\")\n",
        "print(A[:, [0, 1]])"
      ]
    },
    {
      "cell_type": "code",
      "execution_count": null,
      "id": "efae4cc8",
      "metadata": {},
      "outputs": [],
      "source": [
        "# Slicing with step: start:stop:step\n",
        "A = np.arange(1, 21).reshape((5, 4))\n",
        "print(\"Original:\")\n",
        "print(A)\n",
        "print(\"\\nEvery other row (step=2):\")\n",
        "print(A[::2, :])\n",
        "print(\"\\nEvery other column:\")\n",
        "print(A[:, ::2])"
      ]
    },
    {
      "cell_type": "markdown",
      "id": "def99e83",
      "metadata": {},
      "source": [
        "## Advanced: Boolean Indexing with NumPy\n",
        "\n",
        "Boolean indexing allows filtering based on conditions."
      ]
    },
    {
      "cell_type": "code",
      "execution_count": null,
      "id": "489dd375",
      "metadata": {},
      "outputs": [],
      "source": [
        "# Create a boolean array\n",
        "A = np.arange(1, 21).reshape((4, 5))\n",
        "keep_rows = np.array([False, True, False, True])\n",
        "\n",
        "print(\"Original array:\")\n",
        "print(A)\n",
        "print(\"\\nRows where keep_rows is True:\")\n",
        "print(A[keep_rows])"
      ]
    },
    {
      "cell_type": "markdown",
      "id": "9a458248",
      "metadata": {},
      "source": [
        "## Advanced: Creating Matplotlib Visualizations\n",
        "\n",
        "Matplotlib provides fine-grained control over visualizations."
      ]
    },
    {
      "cell_type": "code",
      "execution_count": null,
      "id": "46df816f",
      "metadata": {},
      "outputs": [],
      "source": [
        "# Import matplotlib\n",
        "from matplotlib.pyplot import subplots\n",
        "\n",
        "# Generate random data\n",
        "rng = np.random.default_rng(865)\n",
        "x = rng.normal(loc=10, scale=5, size=100)\n",
        "y = rng.normal(loc=10, scale=5, size=100)\n",
        "\n",
        "# Create a scatter plot\n",
        "fig, ax = subplots(figsize=(8, 6))\n",
        "ax.scatter(x, y, marker='o', alpha=0.6)\n",
        "ax.set_xlabel('X')\n",
        "ax.set_ylabel('Y')\n",
        "ax.set_title('Scatter Plot Example')\n",
        "ax.grid(True, alpha=0.3)\n",
        "plt.show()"
      ]
    },
    {
      "cell_type": "markdown",
      "id": "135a2b89",
      "metadata": {},
      "source": [
        "### Creating Multiple Subplots"
      ]
    },
    {
      "cell_type": "code",
      "execution_count": null,
      "id": "234ae95c",
      "metadata": {},
      "outputs": [],
      "source": [
        "# Create a 2x2 grid of plots\n",
        "fig, axes = subplots(nrows=2, ncols=2, figsize=(10, 10))\n",
        "\n",
        "# Plot in different positions\n",
        "axes[0, 0].scatter(x, y, marker='o', color='blue', alpha=0.6)\n",
        "axes[0, 0].set_title('Top Left')\n",
        "\n",
        "axes[0, 1].scatter(x, y, marker='s', color='red', alpha=0.6)\n",
        "axes[0, 1].set_title('Top Right')\n",
        "\n",
        "axes[1, 0].scatter(x, y, marker='^', color='green', alpha=0.6)\n",
        "axes[1, 0].set_title('Bottom Left')\n",
        "\n",
        "axes[1, 1].scatter(x, y, marker='*', color='purple', alpha=0.6)\n",
        "axes[1, 1].set_title('Bottom Right')\n",
        "\n",
        "plt.tight_layout()\n",
        "plt.show()"
      ]
    },
    {
      "cell_type": "markdown",
      "id": "f73bec19",
      "metadata": {},
      "source": [
        "## Advanced: Lambda Functions\n",
        "\n",
        "Lambda functions are anonymous (unnamed) functions useful for quick operations."
      ]
    },
    {
      "cell_type": "code",
      "execution_count": null,
      "id": "2e05e04a",
      "metadata": {},
      "outputs": [],
      "source": [
        "# Using lambda with .loc for filtering\n",
        "# This selects rows where Profit > 0 and only specific columns\n",
        "high_profit = solar_data.loc[\n",
        "    lambda df: df['Profit'] > 10,\n",
        "    ['Income', 'Install', 'Profit']\n",
        "]\n",
        "\n",
        "print(\"Customers with profit > $10,000:\")\n",
        "high_profit.head()"
      ]
    },
    {
      "cell_type": "markdown",
      "id": "278c16f2",
      "metadata": {},
      "source": [
        "### Advanced: Summary Statistics Table by Group"
      ]
    },
    {
      "cell_type": "code",
      "execution_count": null,
      "id": "94d9a876",
      "metadata": {},
      "outputs": [],
      "source": [
        "sum_stats = (\n",
        "    solar_data.groupby('Install')[['Income', 'PSH', 'Bid', 'Installation', 'Revenue', 'Profit']]\n",
        "    .agg(['mean', 'std'])\n",
        "    .round(2)\n",
        "    .stack(level=0, future_stack=True)\n",
        "    .reset_index(names=['Install', 'Statistic'])\n",
        "    .rename(columns={'mean': 'Avg.', 'std': 'SD'})\n",
        "    .pivot(index='Statistic', columns='Install', values=['Avg.', 'SD'])\n",
        ")\n",
        "\n",
        "sum_stats = sum_stats.swaplevel(axis=1).sort_index(axis=1)\n",
        "\n",
        "\n",
        "# Flatten column names\n",
        "# Using f-string (cleanest)\n",
        "sum_stats.columns = [f\"{col[1]} ({col[0]})\" for col in sum_stats.columns.values]\n",
        "\n",
        "print(sum_stats)\n"
      ]
    },
    {
      "cell_type": "markdown",
      "id": "1149f144",
      "metadata": {},
      "source": [
        "---"
      ]
    }
  ],
  "metadata": {
    "kernelspec": {
      "display_name": "ds-base",
      "language": "python",
      "name": "python3"
    },
    "language_info": {
      "codemirror_mode": {
        "name": "ipython",
        "version": 3
      },
      "file_extension": ".py",
      "mimetype": "text/x-python",
      "name": "python",
      "nbconvert_exporter": "python",
      "pygments_lexer": "ipython3",
      "version": "3.12.11"
    }
  },
  "nbformat": 4,
  "nbformat_minor": 5
}
